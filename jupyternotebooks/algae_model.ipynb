{
 "cells": [
  {
   "cell_type": "markdown",
   "metadata": {},
   "source": [
    "Connected to spyice (Python 3.12.6)"
   ]
  },
  {
   "cell_type": "markdown",
   "metadata": {},
   "source": [
    "# Algae Model : Study of Photosynthetic rate"
   ]
  },
  {
   "cell_type": "markdown",
   "metadata": {},
   "source": [
    "## 1.0 Introduction\n",
    "\n",
    "The jupyter notebook demonstrates different stressors of the photosynthetic model as a part of the algae biogeochemical process model. Physical stressors considered in the model are salt, temperature, light, and nutrient intake affect the photosynthetic rate. The photosynthetic rate $\\mu$ is a parametric model and the associated stressors affecting the system also represented by empiral formulations. The photosynthetic rate along the sea ice vertical column follows a Gaussian distribution majorly influenced by the salinity model which is a Gaussian model followed by exponential temperature function, hyperbolic tangential photosynthetic active region (PAR) and fraction nutrient limitation. \n",
    "\n",
    "$\\mu = \\mu_m f_t f_s L_n L_{PAR}$\n",
    "\n",
    "NOTE: For the purpose of testing, field variables like T, S and C are considered to be monotonically increasing linear functions and do not correspond to the values at the vertical column. T, S and C are mapped one-to-one (injective functions). Therefore, they do not carry any physical meaning as the given range is only to understand the nature of the emperical functions"
   ]
  },
  {
   "cell_type": "code",
   "execution_count": 1,
   "metadata": {},
   "outputs": [],
   "source": [
    "# %matplotlib notebook\n",
    "\n",
    "import numpy as np\n",
    "import matplotlib.pyplot as plt\n",
    "from IPython.display import display\n",
    "import ipywidgets as widgets\n",
    "import warnings\n",
    "\n",
    "# Suppress runtime warnings\n",
    "warnings.filterwarnings(\"ignore\", category=RuntimeWarning)\n"
   ]
  },
  {
   "cell_type": "code",
   "execution_count": null,
   "metadata": {},
   "outputs": [],
   "source": [
    "# parameters list and default values\n",
    "\n",
    "# initial values for the sliders \n",
    "# salinity\n",
    "init_s_min = 1\n",
    "init_s_max = 250\n",
    "# temperature\n",
    "init_t_min = -100\n",
    "init_t_max = 100\n",
    "# brine concentration\n",
    "init_c_min = 0.01\n",
    "init_c_max = 100\n",
    "init_k = 1.6  # nitrogen\n",
    "# depth in m\n",
    "init_z_min = 0\n",
    "init_z_max = 10\n",
    "init_z = 0.1\n",
    "\n",
    "# field parameters as a range of values \n",
    "# temperature\n",
    "T_c = np.linspace(-25, 1, 150)\n",
    "# temperature constant\n",
    "r_g = 0.0633"
   ]
  },
  {
   "cell_type": "markdown",
   "metadata": {},
   "source": [
    "## 2.0 Salinity Dependence\n",
    "\n",
    "The Salinity dependence following a Gaussian distribution is given by, \n",
    "\n",
    " $f_s = exp[-(2.16 - 8.3X10^{-5}. S_{br}^{2.11} - 0.55 ln(Sbr))^{2}]$\n",
    "\n",
    " where $S_{br}$ is brine salinity in the sea ice column"
   ]
  },
  {
   "cell_type": "code",
   "execution_count": 2,
   "metadata": {},
   "outputs": [],
   "source": [
    "def f_s_salinity(s_min, s_max):\n",
    "    \"\"\"\n",
    "    Calculate the salinity function f_s as a function of salinity.\n",
    "    The equation used is f_s = exp(-((2.16 - a - b) ** 2)), where:\n",
    "    - a = 8.3 * 10 ** (-5) * s ** 2.11\n",
    "    - b = 0.55 * log(s)\n",
    "    - s is the salinity in g kg^-1\n",
    "    \n",
    "    Parameters:\n",
    "    s_min (float): Minimum salinity in g kg^-1.\n",
    "    s_max (float): Maximum salinity in g kg^-1.\n",
    "\n",
    "    Returns:\n",
    "    numpy.ndarray: Salinity function f\n",
    "    \"\"\"\n",
    "    s_br = np.linspace(s_min, s_max, 150)\n",
    "    a_br = 8.3 * 10 ** (-5) * np.power(s_br, 2.11)\n",
    "    b_br = 0.55 * np.log(s_br)\n",
    "    f_s = np.exp(-((2.16 - a_br - b_br) ** 2))\n",
    "\n",
    "    return f_s\n",
    "\n",
    "# update salinity function based on the sliders on the plot\n",
    "def update_salinity(s_min, s_max):\n",
    "    fig, ax = plt.subplots()\n",
    "    plt.grid()\n",
    "    (line,) = ax.plot(\n",
    "        np.linspace(init_s_min, init_s_max, 150), f_s_salinity(s_min, s_max), lw=2\n",
    "    )\n",
    "    ax.set_xlabel(\"Salinity in $g$ $kg^{-1}$\")\n",
    "    ax.set_ylabel(\"$f_s$\")\n",
    "    ax.set_title(\"Salinity function\")\n",
    "    # adjust the main plot to make room for the sliders\n",
    "    fig.subplots_adjust(left=0.25, bottom=0.25)\n",
    "    # The function to be called anytime a slider's value changes\n",
    "    # Create the figure and the line that we will manipulate\n",
    "    line.set_ydata(f_s_salinity(s_min, s_max))\n",
    "    line.set_xdata(np.linspace(init_s_min, init_s_max, 150))\n",
    "    fig.canvas.draw_idle()\n"
   ]
  },
  {
   "cell_type": "code",
   "execution_count": 3,
   "metadata": {},
   "outputs": [
    {
     "data": {
      "application/vnd.jupyter.widget-view+json": {
       "model_id": "dbb33c180f8e426ab17bd9135b851151",
       "version_major": 2,
       "version_minor": 0
      },
      "text/plain": [
       "interactive(children=(FloatSlider(value=1.0, description='s_min', max=250.0, min=1.0), FloatSlider(value=250.0…"
      ]
     },
     "metadata": {},
     "output_type": "display_data"
    },
    {
     "data": {
      "text/plain": [
       "<function __main__.update_salinity(s_min, s_max)>"
      ]
     },
     "metadata": {},
     "output_type": "display_data"
    },
    {
     "data": {
      "application/vnd.jupyter.widget-view+json": {
       "model_id": "b001f5cccae34242b098e76aa4987e5b",
       "version_major": 2,
       "version_minor": 0
      },
      "text/plain": [
       "Button(description='Reset', style=ButtonStyle())"
      ]
     },
     "metadata": {},
     "output_type": "display_data"
    }
   ],
   "source": [
    "# Create a `matplotlib.widgets.Button` to reset the sliders to initial values.\n",
    "\n",
    "s_min_widget = widgets.FloatSlider(\n",
    "    value=init_s_min, min=init_s_min, max=init_s_max, step=0.1, description=\"s_min\"\n",
    ")\n",
    "s_max_widget = widgets.FloatSlider(\n",
    "    value=init_s_max, min=init_s_min, max=init_s_max, step=0.1, description=\"s_max\"\n",
    ")\n",
    "\n",
    "# Create reset button\n",
    "reset_button_salinity = widgets.Button(description=\"Reset\")\n",
    "\n",
    "\n",
    "def reset_salinity(event):\n",
    "    s_min_widget.value = init_s_min\n",
    "    s_max_widget.value = init_s_max\n",
    "\n",
    "\n",
    "reset_button_salinity.on_click(reset_salinity)\n",
    "\n",
    "# Create an interactive plot with the `update_salinity` function and the sliders.\n",
    "interactive_plot_salinity = widgets.interact(\n",
    "    update_salinity, s_min=s_min_widget, s_max=s_max_widget\n",
    ")\n",
    "\n",
    "# Display the interactive plot and the reset button\n",
    "display(interactive_plot_salinity, reset_button_salinity)"
   ]
  },
  {
   "cell_type": "markdown",
   "metadata": {},
   "source": [
    "## 3.0 Temperature dependence\n",
    "\n",
    "The exponential temperature function $f_T$, \n",
    "\n",
    "$f_T = e^{r_g T_c}$\n",
    "with $T_c$ being the temperature in $\\degree $ celsius, $r_g = 0.0633 \\degree C$"
   ]
  },
  {
   "cell_type": "code",
   "execution_count": null,
   "metadata": {},
   "outputs": [
    {
     "data": {
      "text/plain": [
       "Text(0.5, 1.0, 'Temperature function')"
      ]
     },
     "execution_count": 4,
     "metadata": {},
     "output_type": "execute_result"
    },
    {
     "data": {
      "image/png": "[encoded data removed]",
      "text/plain": [
       "<Figure size 640x480 with 1 Axes>"
      ]
     },
     "metadata": {},
     "output_type": "display_data"
    }
   ],
   "source": [
    "f_t = np.exp(r_g * T_c)\n",
    "\n",
    "plt.grid()\n",
    "# plt.plot(T_c, f_ts, 'r',label='$f_{TS}$')\n",
    "plt.plot(T_c, f_t, \"black\", label=r\"$f_T$\")\n",
    "plt.legend()\n",
    "plt.xlabel(r\"$\\degree C$\")\n",
    "plt.ylabel(r\"f\")\n",
    "plt.title(r\"Temperature function\")\n"
   ]
  },
  {
   "cell_type": "code",
   "execution_count": 5,
   "metadata": {},
   "outputs": [],
   "source": [
    "def ft_temperature(t_min, t_max):\n",
    "    \"\"\"\n",
    "    Model temperature function f_t as an exponential function of temperature.\n",
    "\n",
    "    Parameters:\n",
    "    t_min (float): Minimum temperature in degrees Celsius.\n",
    "    t_max (float): Maximum temperature in degrees Celsius.\n",
    "\n",
    "    Returns:\n",
    "    numpy.ndarray: Temperature function f_t\n",
    "    \n",
    "    \"\"\"\n",
    "    T_c = np.linspace(t_min, t_max, 150)\n",
    "    r_g = 0.0633\n",
    "    f_t = np.exp(r_g * T_c)\n",
    "\n",
    "    return f_t"
   ]
  },
  {
   "cell_type": "markdown",
   "metadata": {},
   "source": [
    "### 3.1 $f_s \\cdot f_t $ dependence\n",
    "\n",
    "multiplicative dependence of photosynthetic rate as function of salinity and temperature $\\mu(T, S)$"
   ]
  },
  {
   "cell_type": "code",
   "execution_count": 6,
   "metadata": {},
   "outputs": [],
   "source": [
    "def fs_ft(t_min, t_max, s_min, s_max):\n",
    "    \"\"\"\n",
    "    Calculate the temperature x salinity function f_s * f_t.\n",
    "    The equation used is f_s * f_t = f_t * f_s, where:\n",
    "    - f_t = exp(r_g * T_c)\n",
    "    - f_s = exp(-((2.16 - a - b) ** 2)), where:\n",
    "        - a = 8.3 * 10 ** (-5) * s ** 2.11\n",
    "        - b = 0.55 * log(s)\n",
    "        - s is the salinity in g kg^-1\n",
    "    - r_g = 0.0633\n",
    "\n",
    "    Parameters:\n",
    "    t_min (float): Minimum temperature in degrees Celsius.\n",
    "\n",
    "    Returns:\n",
    "    numpy.ndarray: Temperature x salinity function f_s * f_t\n",
    "    \"\"\"\n",
    "    T_c = np.linspace(t_min, t_max, 150)\n",
    "    r_g = 0.0633\n",
    "    f_t = np.exp(r_g * T_c)\n",
    "    f_s = f_s_salinity(s_min, s_max)\n",
    "\n",
    "    return f_t * f_s\n",
    "\n",
    "def update_fs_ft(t_min, t_max, s_min, s_max):\n",
    "    fig, axs = plt.subplots(1, 2, figsize=(16, 6))\n",
    "    for ax in axs.flat:\n",
    "        ax.grid(True)\n",
    "    ax1, ax2 = axs[0], axs[1]\n",
    "    x_axis = np.linspace(init_t_min, init_t_max, 150)\n",
    "    x2_axis = np.linspace(init_s_min, init_s_max, 150)\n",
    "    (line1,) = ax1.plot(np.linspace(t_min, t_max, 150), fs_ft(t_min, t_max, s_min, s_max), lw=2)\n",
    "    (line2,) = ax2.plot(np.linspace(s_min, s_max, 150), fs_ft(t_min, t_max, s_min, s_max), lw=2)\n",
    "    ax1.set_xlabel(r\"Temperature in $\\degree C$\")\n",
    "    ax1.set_ylabel(r\"$f_s \\cdot f_t$\")\n",
    "    ax1.set_title(\"temperature x salinity function\")\n",
    "    ax2.set_xlabel(r\"Salinity in $g$ $kg^{-1}$\")\n",
    "    ax2.set_ylabel(r\"$f_s \\cdot f_t$\")\n",
    "    ax2.set_title(r\"temperature x salinity function\")\n",
    "    # adjust the main plot to make room for the sliders\n",
    "    fig.subplots_adjust(left=0.25, bottom=0.25)\n",
    "    # The function to be called anytime a slider's value changes\n",
    "    # Create the figure and the line that we will manipulate\n",
    "    line1.set_ydata(fs_ft(t_min, t_max, s_min, s_max))\n",
    "    line1.set_xdata(np.linspace(t_min, t_max, 150))\n",
    "    line2.set_ydata(fs_ft(t_min, t_max, s_min, s_max))\n",
    "    line2.set_xdata(np.linspace(s_min, s_max, 150))\n",
    "    fig.canvas.draw_idle()\n"
   ]
  },
  {
   "cell_type": "code",
   "execution_count": 7,
   "metadata": {},
   "outputs": [
    {
     "data": {
      "application/vnd.jupyter.widget-view+json": {
       "model_id": "4185eade95cd45019c1cb6c2aa00591f",
       "version_major": 2,
       "version_minor": 0
      },
      "text/plain": [
       "interactive(children=(FloatSlider(value=-100.0, description='t_min', min=-100.0), FloatSlider(value=100.0, des…"
      ]
     },
     "metadata": {},
     "output_type": "display_data"
    },
    {
     "data": {
      "text/plain": [
       "<function __main__.update_fs_ft(t_min, t_max, s_min, s_max)>"
      ]
     },
     "metadata": {},
     "output_type": "display_data"
    },
    {
     "data": {
      "application/vnd.jupyter.widget-view+json": {
       "model_id": "fa04ab29a55a4a809ceee9bdc9b7c99e",
       "version_major": 2,
       "version_minor": 0
      },
      "text/plain": [
       "Button(description='Reset', style=ButtonStyle())"
      ]
     },
     "metadata": {},
     "output_type": "display_data"
    }
   ],
   "source": [
    "# ui widgets\n",
    "# salinity min and max\n",
    "s_min_widget = widgets.FloatSlider(\n",
    "    value=init_s_min, min=init_s_min, max=init_s_max, step=0.1, description=\"s_min\"\n",
    ")\n",
    "s_max_widget = widgets.FloatSlider(\n",
    "    value=init_s_max, min=init_s_min, max=init_s_max, step=0.1, description=\"s_max\"\n",
    ")\n",
    "# temperature min and max\n",
    "t_min_widget = widgets.FloatSlider(\n",
    "    value=init_t_min, min=-100, max=100, step=0.1, description=\"t_min\"\n",
    ")\n",
    "t_max_widget = widgets.FloatSlider(\n",
    "    value=init_t_max, min=-100, max=100, step=0.1, description=\"t_max\"\n",
    ")\n",
    "# reset\n",
    "reset_button_salinity_temperature = widgets.Button(description=\"Reset\")\n",
    "\n",
    "\n",
    "def reset_salinity_temperature(event):\n",
    "    # salinity\n",
    "    s_min_widget.value = init_s_min\n",
    "    s_max_widget.value = init_s_max\n",
    "    # temperature\n",
    "    t_min_widget.value = init_t_min\n",
    "    t_max_widget.value = init_t_max\n",
    "\n",
    "\n",
    "reset_button_salinity.on_click(reset_salinity)\n",
    "\n",
    "interactive_plot_salinity_temperature = widgets.interact(\n",
    "    update_fs_ft,\n",
    "    t_min=t_min_widget,\n",
    "    t_max=t_max_widget,\n",
    "    s_min=s_min_widget,\n",
    "    s_max=s_max_widget,\n",
    ")\n",
    "\n",
    "# display(fig.canvas)\n",
    "display(interactive_plot_salinity_temperature, reset_button_salinity_temperature)"
   ]
  },
  {
   "cell_type": "markdown",
   "metadata": {},
   "source": [
    "### 3.2 Check for tolerance f_ts\n",
    "\n",
    "The combined temperature and salinity effects define a window of temperature tolerance of ice algae defined by $f_{TS} = f_T f_S > 0.5 $\n"
   ]
  },
  {
   "cell_type": "code",
   "execution_count": 8,
   "metadata": {},
   "outputs": [],
   "source": [
    "# f_ts = f_t * f_s\n",
    "# assert f_ts.any() < 0.5, \"f_ts should be greater than 0.5\""
   ]
  },
  {
   "cell_type": "markdown",
   "metadata": {},
   "source": [
    "## 4.0 Nutrient limitation\n",
    "\n",
    "$L_N = \\frac{C_N^{br}}{k_N + C_N^{br}}$ with \n",
    "\n",
    "$k_N = 1.6 \\mu M $, half saturation constant for nitrogen $\\\\$\n",
    "$k_{Si} = 3.9 \\mu M $, half saturation constant for Silicon $\\\\$\n",
    "$k_P = 0.24 \\mu M $, half saturation constant for Phosphorus\n"
   ]
  },
  {
   "cell_type": "code",
   "execution_count": 9,
   "metadata": {},
   "outputs": [],
   "source": [
    "def nutrient_function(c_min, c_max, k):\n",
    "    \"\"\"A function to calculate the nutrient function as a function of nutrient concentration.\n",
    "    The equation used is l_n = c_n / (k_n + c_n), where:\n",
    "    - c_n is the nutrient concentration in mmol m^-3\n",
    "    - k_n = 1.6 micrometers\n",
    "    - k_si = 3.9 micrometers\n",
    "    - k_p = 0.24 micrometers\n",
    "    - l_n = c_n / (k_n + c_n)\n",
    "\n",
    "    Parameters:\n",
    "    c_min (float): Minimum nutrient concentration in mmol m^-3.\n",
    "    c_max (float): Maximum nutrient concentration in mmol m^-3.\n",
    "    k (float): Nutrient concentration in mmol m^-3.\n",
    "\n",
    "    Returns:\n",
    "    numpy.ndarray: Nutrient function l_n\n",
    "    \"\"\"\n",
    "    # c in mmol m-3\n",
    "    c_n = np.linspace(c_min, c_max, 150)\n",
    "    k_n = 1.6  # in micrometers\n",
    "    k_si = 3.9  # in micrometers\n",
    "    k_p = 0.24  # in micrometers\n",
    "    l_n = c_n / (k_n + c_n)\n",
    "    l_si = c_n / (k_si + c_n)\n",
    "    l_p = c_n / (k_p + c_n)\n",
    "    # nutrient for k\n",
    "    l_random = c_n / (k + c_n)\n",
    "\n",
    "    return l_random\n",
    "\n",
    "def update_nutrients(c_min, c_max, k):\n",
    "    fig, ax = plt.subplots()\n",
    "    plt.grid()\n",
    "    x_axis = np.linspace(init_c_min, init_c_max, 150)\n",
    "    (line,) = ax.plot(x_axis, nutrient_function(c_min, c_max, k), lw=2)\n",
    "    ax.set_xlabel(r\"$C_N^{br}$ in $m mol m^{-3}$\")\n",
    "    ax.set_ylabel(r\"$l_n$\")\n",
    "    ax.set_title(\"Nutrient function\")\n",
    "    # adjust the main plot to make room for the sliders\n",
    "    fig.subplots_adjust(left=0.25, bottom=0.25)\n",
    "    # The function to be called anytime a slider's value changes\n",
    "    # Create the figure and the line that we will manipulate\n",
    "    line.set_ydata(nutrient_function(c_min, c_max, k))\n",
    "    line.set_xdata(x_axis)\n",
    "    fig.canvas.draw_idle()"
   ]
  },
  {
   "cell_type": "code",
   "execution_count": 10,
   "metadata": {},
   "outputs": [
    {
     "data": {
      "application/vnd.jupyter.widget-view+json": {
       "model_id": "4fd475164d5049dea670201a33055a26",
       "version_major": 2,
       "version_minor": 0
      },
      "text/plain": [
       "interactive(children=(FloatSlider(value=0.01, description='c_min', min=0.01), FloatSlider(value=100.0, descrip…"
      ]
     },
     "metadata": {},
     "output_type": "display_data"
    },
    {
     "data": {
      "text/plain": [
       "<function __main__.update_nutrients(c_min, c_max, k)>"
      ]
     },
     "metadata": {},
     "output_type": "display_data"
    },
    {
     "data": {
      "application/vnd.jupyter.widget-view+json": {
       "model_id": "23ca57799f00494aa57526025249eb7b",
       "version_major": 2,
       "version_minor": 0
      },
      "text/plain": [
       "Button(description='Reset', style=ButtonStyle())"
      ]
     },
     "metadata": {},
     "output_type": "display_data"
    }
   ],
   "source": [
    "# ui widgets\n",
    "# salinity min and max\n",
    "c_min_widget = widgets.FloatSlider(\n",
    "    value=init_c_min, min=init_c_min, max=init_c_max, step=0.1, description=\"c_min\"\n",
    ")\n",
    "c_max_widget = widgets.FloatSlider(\n",
    "    value=init_c_max, min=init_c_min, max=init_c_max, step=0.1, description=\"c_max\"\n",
    ")\n",
    "k_widget = widgets.FloatSlider(\n",
    "    value=init_k, min=0.01, max=10, step=0.1, description=\"k\"\n",
    ")\n",
    "# reset\n",
    "reset_button_nutrient = widgets.Button(description=\"Reset\")\n",
    "\n",
    "\n",
    "def reset_nutrient(event):\n",
    "    # salinity\n",
    "    c_min_widget.value = init_c_min\n",
    "    c_max_widget.value = init_c_max\n",
    "    k_widget.value = init_k\n",
    "\n",
    "\n",
    "reset_button_nutrient.on_click(reset_nutrient)\n",
    "\n",
    "interactive_plot_nutrient = widgets.interact(\n",
    "    update_nutrients, c_min=c_min_widget, c_max=c_max_widget, k=k_widget\n",
    ")\n",
    "\n",
    "# display(fig.canvas)\n",
    "display(interactive_plot_nutrient, reset_button_nutrient)"
   ]
  },
  {
   "cell_type": "markdown",
   "metadata": {},
   "source": [
    "### 4.1 $f_s \\cdot f_t \\cdot l_n$ plot\n",
    "\n",
    "multiplicative dependence of photosynthetic rate as a function of salinity, temperature and nutrient limitation $\\mu(T,S,N)$"
   ]
  },
  {
   "cell_type": "code",
   "execution_count": 23,
   "metadata": {},
   "outputs": [],
   "source": [
    "def fs_ft_ln(s_min, s_max, t_min, t_max, c_min, c_max, k: float):\n",
    "    \"\"\"\n",
    "    Calculate the salinity x temperature x nutrient function f_s * f_t * l_n.\n",
    "    The equation used is f_s * f_t * l_n = f_s * f_t * l_n, where:\n",
    "    - f_s = exp(-((2.16 - a - b) ** 2)), where:\n",
    "        - a = 8.3 * 10 ** (-5) * s ** 2.11\n",
    "        - b = 0.55 * log(s)\n",
    "        - s is the salinity in g kg^-1\n",
    "\n",
    "    - f_t = exp(r_g * T_c)\n",
    "    - r_g = 0.0633\n",
    "    - T_c is the temperature in degrees Celsius\n",
    "\n",
    "    - l_n = c_n / (k_n + c_n), where:\n",
    "        - c_n is the nutrient concentration in mmol m^-3\n",
    "        - k_n = 1.6 micrometers\n",
    "\n",
    "    Parameters:\n",
    "    s_min (float): Minimum salinity in g kg^-1.\n",
    "    s_max (float): Maximum salinity in g kg^-1.\n",
    "    t_min (float): Minimum temperature in degrees Celsius.\n",
    "    t_max (float): Maximum temperature in degrees Celsius.\n",
    "    c_min (float): Minimum nutrient concentration in mmol m^-3.\n",
    "    c_max (float): Maximum nutrient concentration in mmol m^-3.\n",
    "    k (float): Nutrient concentration in mmol m^-3.\n",
    "\n",
    "    Returns:\n",
    "    numpy.ndarray: Salinity x temperature x nutrient function f_s * f_t * l_n\n",
    "    \"\"\"\n",
    "    fs_ft_ = fs_ft(t_min, t_max, s_min, s_max)\n",
    "    fs_ft_ln_ = fs_ft_ * nutrient_function(c_min, c_max, k)\n",
    "\n",
    "    return fs_ft_ln_\n",
    "\n",
    "\n",
    "def update_fs_ft_ln(s_min, s_max, t_min, t_max, c_min, c_max, k: float):\n",
    "    fig, axs = plt.subplots(2,2, figsize=(16, 12))\n",
    "    for ax in axs.flat:\n",
    "        ax.grid(True)\n",
    "    x_axis = np.linspace(init_t_min, init_t_max, 150)\n",
    "    x2_axis = np.linspace(init_s_min, init_s_max, 150)\n",
    "    x3_axis = np.linspace(init_c_min, init_c_max, 150)\n",
    "    ax1, ax2, ax3, ax4 = axs[0,0], axs[0,1], axs[1,0], axs[1,1]\n",
    "    fig.delaxes(ax4)\n",
    "    (line1,) = ax1.plot(\n",
    "        np.linspace(t_min, t_max, 150), fs_ft_ln(s_min, s_max, t_min, t_max, c_min, c_max, k), lw=2\n",
    "    )\n",
    "    (line2,) = ax2.plot(\n",
    "        np.linspace(s_min, s_max, 150), fs_ft_ln(s_min, s_max, t_min, t_max, c_min, c_max, k), lw=2\n",
    "    )\n",
    "    (line3,) = ax3.plot(\n",
    "        np.linspace(c_min, c_max, 150), fs_ft_ln(s_min, s_max, t_min, t_max, c_min, c_max, k), lw=2\n",
    "    )\n",
    "    ax1.set_xlabel(r\"Temperature in $\\degree C$\")\n",
    "    ax1.set_ylabel(r\"$f_s \\cdot f_t \\cdot l_n$\")\n",
    "    ax1.set_title(\"salinity-temperature-nutrient\")\n",
    "\n",
    "    ax2.set_xlabel(r\"Salinity in $g$ $kg^{-1}$\")\n",
    "    ax2.set_ylabel(r\"$f_s \\cdot f_t \\cdot l_n$\")\n",
    "    ax2.set_title(\"salinity-temperature-nutrient\")\n",
    "\n",
    "    ax3.set_xlabel(r\"$C_N^{br}$ in $m mol m^{-3}$\")\n",
    "    ax3.set_ylabel(r\"$f_s \\cdot f_t \\cdot l_n$\")\n",
    "    ax3.set_title(\"salinity-temperature-nutrient\")\n",
    "\n",
    "    # adjust the main plot to make room for the sliders\n",
    "    fig.subplots_adjust(left=0.25, bottom=0.25)\n",
    "    # The function to be called anytime a slider's value changes\n",
    "    # Create the figure and the line that we will manipulate\n",
    "    line1.set_ydata(fs_ft_ln(s_min, s_max, t_min, t_max, c_min, c_max, k))\n",
    "    line1.set_xdata(np.linspace(t_min, t_max, 150))\n",
    "    line2.set_ydata(fs_ft_ln(s_min, s_max, t_min, t_max, c_min, c_max, k))\n",
    "    line2.set_xdata(np.linspace(s_min, s_max, 150))\n",
    "    line3.set_ydata(fs_ft_ln(s_min, s_max, t_min, t_max, c_min, c_max, k))\n",
    "    line3.set_xdata(np.linspace(c_min, c_max, 150))\n",
    "\n",
    "    fig.canvas.draw_idle()\n"
   ]
  },
  {
   "cell_type": "code",
   "execution_count": 24,
   "metadata": {},
   "outputs": [
    {
     "data": {
      "application/vnd.jupyter.widget-view+json": {
       "model_id": "eda5d78401fc49aa973760ba7bad90b8",
       "version_major": 2,
       "version_minor": 0
      },
      "text/plain": [
       "interactive(children=(FloatSlider(value=1.0, description='s_min', max=250.0, min=1.0), FloatSlider(value=250.0…"
      ]
     },
     "metadata": {},
     "output_type": "display_data"
    },
    {
     "data": {
      "text/plain": [
       "<function __main__.update_fs_ft_ln(s_min, s_max, t_min, t_max, c_min, c_max, k: float)>"
      ]
     },
     "metadata": {},
     "output_type": "display_data"
    },
    {
     "data": {
      "application/vnd.jupyter.widget-view+json": {
       "model_id": "3454f5b9896e42669d06a7d13e672462",
       "version_major": 2,
       "version_minor": 0
      },
      "text/plain": [
       "Button(description='Reset', style=ButtonStyle())"
      ]
     },
     "metadata": {},
     "output_type": "display_data"
    }
   ],
   "source": [
    "# ui widgets\n",
    "# salinity min and max\n",
    "s_min_widget = widgets.FloatSlider(\n",
    "    value=init_s_min, min=init_s_min, max=init_s_max, step=0.1, description=\"s_min\"\n",
    ")\n",
    "s_max_widget = widgets.FloatSlider(\n",
    "    value=init_s_max, min=init_s_min, max=init_s_max, step=0.1, description=\"s_max\"\n",
    ")\n",
    "# temperature min and max\n",
    "t_min_widget = widgets.FloatSlider(\n",
    "    value=init_t_min, min=-100, max=100, step=0.1, description=\"t_min\"\n",
    ")\n",
    "t_max_widget = widgets.FloatSlider(\n",
    "    value=init_t_max, min=-100, max=100, step=0.1, description=\"t_max\"\n",
    ")\n",
    "# nutrient\n",
    "c_min_widget = widgets.FloatSlider(\n",
    "    value=init_c_min, min=init_c_min, max=init_c_max, step=0.1, description=\"c_min\"\n",
    ")\n",
    "c_max_widget = widgets.FloatSlider(\n",
    "    value=init_c_max, min=init_c_min, max=init_c_max, step=0.1, description=\"c_max\"\n",
    ")\n",
    "k_widget = widgets.FloatSlider(\n",
    "    value=init_k, min=0.01, max=10, step=0.1, description=\"k\"\n",
    ")\n",
    "# reset\n",
    "reset_button_salinity_temperature_nutrient = widgets.Button(description=\"Reset\")\n",
    "\n",
    "\n",
    "def reset_salinity_temperature_nutrient(event):\n",
    "    # salinity\n",
    "    s_min_widget.value = init_s_min\n",
    "    s_max_widget.value = init_s_max\n",
    "    # temperature\n",
    "    t_min_widget.value = init_t_min\n",
    "    t_max_widget.value = init_t_max\n",
    "    # nutrient\n",
    "    c_min_widget.value = init_c_min\n",
    "    c_max_widget.value = init_c_max\n",
    "    k_widget.value = init_k\n",
    "\n",
    "\n",
    "reset_button_salinity_temperature_nutrient.on_click(reset_salinity_temperature_nutrient)\n",
    "\n",
    "interactive_plot_salinity_temperature_nutrient = widgets.interact(\n",
    "    update_fs_ft_ln,\n",
    "    s_min=s_min_widget,\n",
    "    s_max=s_max_widget,\n",
    "    t_min=t_min_widget,\n",
    "    t_max=t_max_widget,\n",
    "    c_min=c_min_widget,\n",
    "    c_max=c_max_widget,\n",
    "    k=k_widget,\n",
    ")\n",
    "\n",
    "# display(fig.canvas)\n",
    "display(\n",
    "    interactive_plot_salinity_temperature_nutrient,\n",
    "    reset_button_salinity_temperature_nutrient,\n",
    ")"
   ]
  },
  {
   "cell_type": "markdown",
   "metadata": {},
   "source": [
    "## 5.0 Light limitation\n",
    "\n",
    "$L_{PAR} = tanh(\\frac{\\alpha PAR}{P_m})$\n",
    "\n",
    "$P_m = \\mu f_S f_T L_N / r_C^{Chl} $\n",
    "\n",
    "$ r_C^{Chl} = \\left[r_C^{Chl} |_{max} - (r_C^{Chl} |_{max} - r_C^{Chl} |_{min}) min (\\frac{PAR}{E}, 1) \\right] L_N$\n",
    "\n",
    "replace $E_k = P_m/\\alpha$\n",
    "\n"
   ]
  },
  {
   "cell_type": "markdown",
   "metadata": {},
   "source": [
    "### 5.1 PAR function\n",
    "\n",
    "$PAR = 4.91 I(z) \\\\$\n",
    "$I(z) = I_0 e^{-k z}  \\\\$\n",
    "$I_0 = i_0 (1- alpha) F_{sw}  \\\\$ where $i_0 = 0.17$\n"
   ]
  },
  {
   "cell_type": "code",
   "execution_count": 27,
   "metadata": {},
   "outputs": [],
   "source": [
    "def PAR(z):\n",
    "    \"\"\"\n",
    "    Calculate the Photosynthetically Active Radiation (PAR) at a given depth in ice.\n",
    "    The equation used is PAR = 4.91 * I(z), where I(z) = I_0 * exp(-kappa * z).\n",
    "    The constants used are:\n",
    "    - kappa = 1.5 m^-1\n",
    "    - i_0 = 0.17 for snow free ice and =0 for snow covered ice\n",
    "    - alpha = 1e-4 g C (g Chla h micro E m-2 s-1)^-1\n",
    "    - F_s_w = 5 W m^-2 incoming solar irradiance 1361\n",
    "    - I_0 = i_0 * (1 - alpha) * F_s_w\n",
    "    - PAR = 4.91 * I(z)\n",
    "\n",
    "    Parameters:\n",
    "    z (float): Depth in ice (m).\n",
    "\n",
    "    Returns:\n",
    "    float: PAR at the given depth in ice (W m^-2).\n",
    "    \"\"\"\n",
    "    kappa = 1.5  # in m^-1\n",
    "    i_0 = 0.17  # for snow free ice and =0 for snow covered ice\n",
    "    alpha = 1e-4  # in g C (g Chla h micro E m-2 s-1)-1\n",
    "    F_s_w = 5  # in W m-2 incoming solar irradiance 1361 https://www.google.com/url?sa=t&source=web&rct=j&opi=89978449&url=https://en.wikipedia.org/wiki/Solar_irradiance&ved=2ahUKEwiL5Z2Qw_6JAxV30wIHHWQXD4AQFnoECCEQAw&usg=AOvVaw3cpr_oSPFpcgj7Ny50mW76\n",
    "    I_0 = i_0 * (1 - alpha) * F_s_w\n",
    "    I = lambda z: I_0 * np.exp(-kappa * z)  # z is the depth in ice\n",
    "    PAR = lambda z: 4.91 * I(z)  # in W m-2\n",
    "\n",
    "    return PAR(z)\n",
    "\n",
    "# Uses PAR(z) to calculate the PAR at different depths in ice.\n",
    "def calculate_PAR(z_min, z_max):\n",
    "    kappa = 1.5  # in m^-1\n",
    "    i_0 = 0.17  # for snow free ice and =0 for snow covered ice\n",
    "    alpha = 1e-4  # in g C (g Chla h micro E m-2 s-1)-1\n",
    "    F_s_w = 5  # in W m-2 incoming solar irradiance 1361 https://www.google.com/url?sa=t&source=web&rct=j&opi=89978449&url=https://en.wikipedia.org/wiki/Solar_irradiance&ved=2ahUKEwiL5Z2Qw_6JAxV30wIHHWQXD4AQFnoECCEQAw&usg=AOvVaw3cpr_oSPFpcgj7Ny50mW76\n",
    "    I_0 = i_0 * (1 - alpha) * F_s_w\n",
    "    I = lambda z: I_0 * np.exp(-kappa * z)  # z is the depth in ice\n",
    "    PAR = lambda z: 4.91 * I(z)  # in W m-2\n",
    "    z_depth = np.linspace(z_min, z_max, 150)\n",
    "    PAR_arr = [PAR(i) for i in z_depth]\n",
    "\n",
    "    return np.array(PAR_arr)\n",
    "\n",
    "# Uses PAR(z) to update with the slider values in the plot \n",
    "def update_PAR(z_min, z_max):\n",
    "    fig, ax = plt.subplots()\n",
    "    plt.grid()\n",
    "    x_axis = np.linspace(z_min, z_max, 150)\n",
    "    (line,) = ax.plot(calculate_PAR(z_min, z_max), np.linspace(z_min, z_max, 150), lw=2)\n",
    "    ax.set_ylabel(\"depth in $m$\")\n",
    "    ax.set_xlabel(\"PAR in $W m^{-2}$\")\n",
    "    ax.set_title(\"PAR function\")\n",
    "    ax.invert_yaxis()\n",
    "    # adjust the main plot to make room for the sliders\n",
    "    fig.subplots_adjust(left=0.25, bottom=0.25)\n",
    "    # The function to be called anytime a slider's value changes\n",
    "    # Create the figure and the line that we will manipulate\n",
    "    line.set_xdata(calculate_PAR(z_min, z_max))\n",
    "    line.set_ydata(np.linspace(z_min, z_max, 150))\n",
    "    fig.canvas.draw_idle()\n"
   ]
  },
  {
   "cell_type": "code",
   "execution_count": 28,
   "metadata": {},
   "outputs": [
    {
     "data": {
      "application/vnd.jupyter.widget-view+json": {
       "model_id": "941e1b1a97e747b8a4b4b18e814ba1b4",
       "version_major": 2,
       "version_minor": 0
      },
      "text/plain": [
       "interactive(children=(FloatSlider(value=0.0, description='z_min', max=10.0), FloatSlider(value=10.0, descripti…"
      ]
     },
     "metadata": {},
     "output_type": "display_data"
    },
    {
     "data": {
      "text/plain": [
       "<function __main__.update_PAR(z_min, z_max)>"
      ]
     },
     "metadata": {},
     "output_type": "display_data"
    },
    {
     "data": {
      "application/vnd.jupyter.widget-view+json": {
       "model_id": "4bbf809f90504313bcdf370668f545db",
       "version_major": 2,
       "version_minor": 0
      },
      "text/plain": [
       "Button(description='Reset', style=ButtonStyle())"
      ]
     },
     "metadata": {},
     "output_type": "display_data"
    }
   ],
   "source": [
    "# ui widgets\n",
    "# salinity min and max\n",
    "z_min_widget = widgets.FloatSlider(\n",
    "    value=init_z_min, min=init_z_min, max=init_z_max, step=0.1, description=\"z_min\"\n",
    ")\n",
    "z_max_widget = widgets.FloatSlider(\n",
    "    value=init_z_max, min=init_z_min, max=init_z_max, step=0.1, description=\"z_max\"\n",
    ")\n",
    "# reset\n",
    "reset_button_PAR = widgets.Button(description=\"Reset\")\n",
    "\n",
    "\n",
    "def reset_PAR(event):\n",
    "    # salinity\n",
    "    z_min_widget.value = init_z_min\n",
    "    z_max_widget.value = init_z_max\n",
    "\n",
    "\n",
    "reset_button_PAR.on_click(reset_PAR)\n",
    "\n",
    "interactive_plot_PAR = widgets.interact(\n",
    "    update_PAR, z_min=z_min_widget, z_max=z_max_widget\n",
    ")\n",
    "\n",
    "# display(fig.canvas)\n",
    "display(interactive_plot_PAR, reset_button_PAR)"
   ]
  },
  {
   "cell_type": "markdown",
   "metadata": {},
   "source": [
    "### 5.2 $E_K$ plot where \n",
    "\n",
    "$P_m = \\mu f_S f_T L_N / r_C^{Chl} $\n",
    "\n",
    "$ r_C^{Chl} = \\left[r_C^{Chl} |_{max} - (r_C^{Chl} |_{max} - r_C^{Chl} |_{min}) min (\\frac{PAR}{E}, 1) \\right] L_N$\n",
    "\n",
    "replace $E_k = P_m/\\alpha$\n",
    "\n"
   ]
  },
  {
   "cell_type": "code",
   "execution_count": 37,
   "metadata": {},
   "outputs": [],
   "source": [
    "def Ek_light(s_min, s_max, t_min, t_max, c_min, c_max, k, z, alpha):\n",
    "    \"\"\" \n",
    "    Calculate the light limitation Ek as a function of depth in ice.\n",
    "    The equation used is Ek = P_m / alpha, where:\n",
    "    - P_m = mu_m * fs * ft * ln / r_chl_c_par\n",
    "    - mu_m = 2e-5 in s^-1\n",
    "    - E = 0.5 in micro E m-2 s-1\n",
    "    - alpha = 1e-4 in g C (g Chla h micro E m-2 s-1)-1\n",
    "    - r_chl_c_max = 0.05\n",
    "    - r_chl_c_min = 0.01\n",
    "    - ln = c_n / (k_n + c_n)\n",
    "    - fs = exp(-((2.16 - a - b) ** 2))\n",
    "    - ft = exp(r_g * T_c)\n",
    "    - r_chl_c_par = r_chl_c_max - (r_chl_c_max - r_chl_c_min) * min(PAR / E, 1) * ln\n",
    "    - P_m = mu_m * fs * ft * ln / r_chl_c_par\n",
    "    - E_k = P_m / alpha\n",
    "\n",
    "    Parameters:\n",
    "    s_min (float): Minimum salinity in g kg^-1.\n",
    "    s_max (float): Maximum salinity in g kg^-1.\n",
    "    t_min (float): Minimum temperature in degrees Celsius.\n",
    "    t_max (float): Maximum temperature in degrees Celsius.\n",
    "    c_min (float): Minimum nutrient concentration in mmol m^-3.\n",
    "    c_max (float): Maximum nutrient concentration in mmol m^-3.\n",
    "    k (float): Nutrient concentration in mmol m^-3.\n",
    "    z (float): Depth in ice (m).\n",
    "    alpha (float): in g C (g Chla h micro E m-2 s-1)-1\n",
    "\n",
    "    Returns:\n",
    "    float: Light limitation Ek at the given depth in ice.\n",
    "    \"\"\"\n",
    "\n",
    "    mu_m = 2e-5  # in s^-1\n",
    "    E = 0.5  # in micro E m-2 s-1\n",
    "    # alpha = 1e-4  # in g C (g Chla h micro E m-2 s-1)-1\n",
    "    r_chl_c_max = 0.05\n",
    "    r_chl_c_min = 0.01\n",
    "\n",
    "    ln = nutrient_function(c_min, c_max, k)\n",
    "    fs_ft_ln_ = fs_ft_ln(\n",
    "        s_min, s_max, t_min, t_max, c_min, c_max, k\n",
    "    )\n",
    "\n",
    "    PAR_div_E = lambda _z: PAR(_z) / E  # noqa: E731\n",
    "    \n",
    "    r_chl_c_par = (  # noqa: E731\n",
    "        lambda _z: r_chl_c_max\n",
    "        - (r_chl_c_max - r_chl_c_min) * np.min([np.min(PAR_div_E(_z)), 1]) * ln\n",
    "    )\n",
    "\n",
    "    P_m_par = lambda _z: mu_m * fs_ft_ln_ / r_chl_c_par(_z)  # noqa: E731\n",
    "\n",
    "    E_k = lambda _z: P_m_par(_z) / alpha  # noqa: E731\n",
    "\n",
    "    return E_k(z)\n",
    "\n",
    "def Ek_light_z(s_min, s_max, t_min, t_max, c_min, c_max, z_min, z_max, k, alpha, index):\n",
    "    mu_m = 2e-5  # in s^-1\n",
    "    E = 0.5  # in micro E m-2 s-1\n",
    "    # alpha = 1e-4  # in g C (g Chla h micro E m-2 s-1)-1\n",
    "    r_chl_c_max = 0.05\n",
    "    r_chl_c_min = 0.01\n",
    "\n",
    "    ln = nutrient_function(c_min, c_max, k)\n",
    "    fs_ft_ln_ = fs_ft_ln(\n",
    "        s_min, s_max, t_min, t_max, c_min, c_max, k\n",
    "    )\n",
    "\n",
    "    PAR_div_E = lambda _z: PAR(_z) / E  # noqa: E731\n",
    "    \n",
    "    r_chl_c_par = (  # noqa: E731\n",
    "        lambda _z: r_chl_c_max\n",
    "        - (r_chl_c_max - r_chl_c_min) * np.min([np.min(PAR_div_E(_z)), 1]) * ln\n",
    "    )\n",
    "\n",
    "    P_m_par = lambda _z: mu_m * fs_ft_ln_[index] / r_chl_c_par(_z)[index]  # noqa: E731\n",
    "\n",
    "    E_k = lambda _z: P_m_par(_z) / alpha  # noqa: E731\n",
    "\n",
    "    z_depth = np.linspace(z_min, z_max, 150)\n",
    "    E_k_arr = [E_k(i) for i in z_depth]\n",
    "\n",
    "    return np.array(E_k_arr)\n",
    "\n",
    "def Ek_light_tanh(PAR_arr:np.array, Ek_arr:np.array):\n",
    "    \"\"\" \n",
    "    \n",
    "    Calculate the light limitation Ek as a function of depth in ice.\n",
    "    The equation used is Ek = P_m / alpha, where:\n",
    "    - P_m = mu_m * fs * ft * ln / r_chl_c_par\n",
    "    - mu_m = 2e-5 in s^-1\n",
    "    - E = 0.5 in micro E m-2 s-1\n",
    "    - alpha = 1e-4 in g C (g Chla h micro E m-2 s-1)-1\n",
    "    - r_chl_c_max = 0.05\n",
    "    - r_chl_c_min = 0.01\n",
    "    - ln = c_n / (k_n + c_n)\n",
    "    - fs = exp(-((2.16 - a - b) ** 2))\n",
    "    - ft = exp(r_g * T_c)\n",
    "    - r_chl_c_par = r_chl_c_max - (r_chl_c_max - r_chl_c_min) * min(PAR / E, 1) * ln\n",
    "    - P_m = mu_m * fs * ft * ln / r_chl_c_par\n",
    "    - E_k = P_m / alpha\n",
    "\n",
    "    Parameters:\n",
    "    PAR_arr (np.array): PAR at the given depth in ice.\n",
    "    Ek_arr (np.array): Light limitation Ek at the given depth in ice.\n",
    "\n",
    "    Returns:\n",
    "    np.array: Light limitation Ek at the given depth in ice.\n",
    "    \n",
    "    \"\"\"\n",
    "\n",
    "    return np.tanh(PAR_arr / Ek_arr)\n",
    "\n",
    "def update_E_k(s_min, s_max, t_min, t_max, c_min, c_max, k, z, z_min, z_max, alpha, index):\n",
    "    z_depth = np.linspace(z_min, z_max, 150)\n",
    "    t_list = np.linspace(t_min, t_max, 150)\n",
    "    s_list = np.linspace(s_min, s_max, 150)\n",
    "    c_list = np.linspace(c_min, c_max, 150)\n",
    "\n",
    "    print(f\"index: {index}\")\n",
    "    print(f\"Temperature[index]: {t_list[index]}\")\n",
    "    print(f\"Salinity[index]: {s_list[index]}\")\n",
    "    print(f\"Concentration[index]: {c_list[index]}\")\n",
    "    \n",
    "    fig, axs = plt.subplots(2, 2, figsize=(16, 12))\n",
    "    for ax in axs.flat:\n",
    "        ax.grid(True)\n",
    "    ax1, ax2, ax3, ax4 = axs[0, 0], axs[0, 1], axs[1, 0], axs[1,1]\n",
    "    (line_1,) = ax1.plot(\n",
    "         Ek_light(s_min, s_max, t_min, t_max, c_min, c_max, k,z, alpha), lw=2, color='black'\n",
    "    )\n",
    "    line_2, = ax2.plot(\n",
    "        z_depth, Ek_light_z(s_min, s_max, t_min, t_max, c_min, c_max, z_min, z_max, k, alpha, index) , lw=2, color='black'\n",
    "    )   \n",
    "    line_3, = ax3.plot(calculate_PAR(z_min, z_max), Ek_light_z(s_min, s_max, t_min, t_max, c_min, c_max, z_min, z_max, k, alpha, index), lw=2, color='black')\n",
    "    line_4, = ax4.plot(calculate_PAR(z_min, z_max), Ek_light_tanh(calculate_PAR(z_min, z_max), Ek_light_z(s_min, s_max, t_min, t_max, c_min, c_max, z_min, z_max, k, alpha, index)), lw=2, color='red')\n",
    "    ax1.set_ylabel(r\"$E_k$\")\n",
    "    ax1.set_xlabel(\"index\")\n",
    "    ax2.set_ylabel(r\"$E_k$\")\n",
    "    ax2.set_xlabel(\"depth in $m$\")\n",
    "    ax3.set_ylabel(r\"$E_k$\")\n",
    "    ax3.set_xlabel(\"PAR in $W m^{-2}$\")\n",
    "    ax4.set_ylabel(r\"$L_{PAR} = tanh(PAR/E_k)$\")\n",
    "    ax4.set_xlabel(\"PAR in $W m^{-2}$\")\n",
    "    # adjust the main plot to make room for the sliders\n",
    "    fig.subplots_adjust(left=0.25, bottom=0.25)\n",
    "    # The function to be called anytime a slider's value changes\n",
    "    # Create the figure and the line that we will manipulate\n",
    "    line_1.set_ydata(Ek_light(s_min, s_max, t_min, t_max, c_min, c_max, k, z, alpha))\n",
    "    line_2.set_ydata(Ek_light_z(s_min, s_max, t_min, t_max, c_min, c_max, z_min, z_max, k, alpha, index))\n",
    "    line_3.set_xdata(calculate_PAR(z_min, z_max))\n",
    "    line_3.set_ydata(Ek_light_z(s_min, s_max, t_min, t_max, c_min, c_max, z_min, z_max, k, alpha, index))\n",
    "    line_4.set_xdata(calculate_PAR(z_min, z_max))\n",
    "    line_4.set_ydata(Ek_light_tanh(calculate_PAR(z_min, z_max), Ek_light_z(s_min, s_max, t_min, t_max, c_min, c_max, z_min, z_max, k, alpha, index)))\n",
    "    fig.canvas.draw_idle()\n",
    "\n"
   ]
  },
  {
   "cell_type": "code",
   "execution_count": 38,
   "metadata": {},
   "outputs": [
    {
     "data": {
      "application/vnd.jupyter.widget-view+json": {
       "model_id": "ae78f11aa97241e8a6791a72f687917e",
       "version_major": 2,
       "version_minor": 0
      },
      "text/plain": [
       "interactive(children=(FloatSlider(value=1.0, description='minimum salinity in g kg^-1', layout=Layout(width='5…"
      ]
     },
     "metadata": {},
     "output_type": "display_data"
    },
    {
     "data": {
      "text/plain": [
       "<function __main__.update_E_k(s_min, s_max, t_min, t_max, c_min, c_max, k, z, z_min, z_max, alpha, index)>"
      ]
     },
     "metadata": {},
     "output_type": "display_data"
    },
    {
     "data": {
      "application/vnd.jupyter.widget-view+json": {
       "model_id": "ef072bdde67c4db7924c0ceac7c0ea01",
       "version_major": 2,
       "version_minor": 0
      },
      "text/plain": [
       "Button(description='Reset', style=ButtonStyle())"
      ]
     },
     "metadata": {},
     "output_type": "display_data"
    }
   ],
   "source": [
    "# ui widgets\n",
    "# salinity min and max\n",
    "s_min_widget = widgets.FloatSlider(\n",
    "    value=init_s_min, min=0, max=200, step=0.1, description=\"minimum salinity in g kg^-1\", style={'description_width': 'initial'}, layout={'width': '500px'} \n",
    ")\n",
    "s_max_widget = widgets.FloatSlider(\n",
    "    value=init_s_max, min=0, max=250, step=0.1, description=\"maximum salinity in g kg^-1\", style={'description_width': 'initial'}, layout={'width': '500px'}\n",
    ")\n",
    "# temperature min and max\n",
    "t_min_widget = widgets.FloatSlider(\n",
    "    value=init_t_min, min=-30, max=100, step=0.1, description=r\"minimum temperature in $\\degree C$\", style={'description_width': 'initial'}, layout={'width': '500px'}\n",
    ")\n",
    "t_max_widget = widgets.FloatSlider(\n",
    "    value=init_t_max, min=-100, max=100, step=0.1, description=r\"maximum temperature in $\\degree C$\", style={'description_width': 'initial'}, layout={'width': '500px'}\n",
    ")\n",
    "# nutrient\n",
    "c_min_widget = widgets.FloatSlider(\n",
    "    value=init_c_min, min=init_c_min, max=init_c_max, step=0.1, description=r\"minimum concentration in $mmol m^{-3}$\", style={'description_width': 'initial'}, layout={'width': '500px'}\n",
    ")\n",
    "c_max_widget = widgets.FloatSlider(\n",
    "    value=init_c_max, min=init_c_min, max=init_c_max, step=0.1, description=r\"maximum concentration in $mmol m^{-3}$\", style={'description_width': 'initial'}, layout={'width': '500px'}\n",
    ")\n",
    "k_widget = widgets.FloatSlider(\n",
    "    value=init_k, min=0.01, max=10, step=0.1, description=r\"half-saturation constant\", style={'description_width': 'initial'}, layout={'width': '500px'}\n",
    ")\n",
    "z_widget = widgets.FloatSlider(\n",
    "    value=init_z, min=init_z_min, max=init_z_max, step=0.1, description=r\"sea-ice depth in m\", style={'description_width': 'initial'}, layout={'width': '500px'}\n",
    ")\n",
    "z_min_widget = widgets.FloatSlider(\n",
    "    value=init_z_min, min=init_z_min, max=init_z_max, step=0.1, description=r\"minimum depth in m\", style={'description_width': 'initial'}, layout={'width': '500px'}\n",
    ")\n",
    "z_max_widget = widgets.FloatSlider(\n",
    "    value=init_z_max, min=init_z_min, max=init_z_max, step=0.1, description=r\"maximum depth in m\", style={'description_width': 'initial'}, layout={'width': '500px'}\n",
    ")\n",
    "alpha_widget = widgets.FloatSlider(\n",
    "    value=1e-4, min=1e-5, max=1e-1, step=1e-5, description=r\"photosynthesis efficiency $\\alpha$\", style={'description_width': 'initial'}, layout={'width': '500px'}\n",
    ")\n",
    "index_widget = widgets.IntSlider(\n",
    "    value=0, min=0, max=149, step=1, description=r\"index\", style={'description_width': 'initial'}, layout={'width': '300px'}\n",
    ")\n",
    "# reset\n",
    "reset_button_E_k = widgets.Button(description=\"Reset\")\n",
    "\n",
    "def reset_E_k(event):\n",
    "    # salinity\n",
    "    s_min_widget.value = init_s_min\n",
    "    s_max_widget.value = init_s_max\n",
    "    # temperature\n",
    "    t_min_widget.value = init_t_min\n",
    "    t_max_widget.value = init_t_max\n",
    "    # nutrient\n",
    "    c_min_widget.value = init_c_min\n",
    "    c_max_widget.value = init_c_max\n",
    "    k_widget.value = init_k\n",
    "    z_widget.value = init_z\n",
    "    z_min_widget.value = init_z_min\n",
    "    z_max_widget.value = init_z_max\n",
    "    alpha_widget.value = 1e-4\n",
    "    index_widget.value = 0\n",
    "\n",
    "\n",
    "reset_button_E_k.on_click(reset_E_k)\n",
    "\n",
    "interactive_plot_E_k = widgets.interact(\n",
    "    update_E_k,\n",
    "    s_min=s_min_widget,\n",
    "    s_max=s_max_widget,\n",
    "    t_min=t_min_widget,\n",
    "    t_max=t_max_widget,\n",
    "    c_min=c_min_widget,\n",
    "    c_max=c_max_widget,\n",
    "    k=k_widget,\n",
    "    z=z_widget,\n",
    "    z_min=z_min_widget,\n",
    "    z_max=z_max_widget,\n",
    "    alpha=alpha_widget,\n",
    "    index=index_widget,\n",
    ")\n",
    "\n",
    "# display(fig.canvas)\n",
    "display(\n",
    "    interactive_plot_E_k,\n",
    "    reset_button_E_k,\n",
    ")"
   ]
  },
  {
   "cell_type": "markdown",
   "metadata": {},
   "source": [
    "## 6.1 Photosynthetic rate $\\mu = \\mu_m f_t f_s L_n L_{PAR}$"
   ]
  },
  {
   "cell_type": "code",
   "execution_count": 40,
   "metadata": {},
   "outputs": [],
   "source": [
    "def photosynthetic_rate(s_min, s_max, t_min, t_max, c_min, c_max, k, z_min, z_max, alpha, index):\n",
    "    \"\"\"\n",
    "    Calculate the photosynthetic rate as a function of depth in ice.\n",
    "    The equation used is mu = max_mu * fs * ft * ln * lpar, where:\n",
    "    - max_mu = 2e-5 in s^-1\n",
    "    - fs = exp(-((2.16 - a - b) ** 2)), where:\n",
    "        - a = 8.3 * 10 ** (-5) * s ** 2.11\n",
    "        - b = 0.55 * log(s)\n",
    "        - s is the salinity in g kg^-1\n",
    "    - ft = exp(r_g * T_c)\n",
    "    - r_g = 0.0633\n",
    "    - T_c is the temperature in degrees Celsius\n",
    "    - ln = c_n / (k_n + c_n)\n",
    "    - lpar = tanh(PAR / Ek)\n",
    "    - Ek = P_m / alpha\n",
    "    - P_m = mu_m * fs * ft * ln / r_chl_c_par\n",
    "    - r_chl_c_par = r_chl_c_max - (r_chl_c_max - r_chl_c_min) * min(PAR / E, 1) * ln\n",
    "    - E = 0.5 in micro E m-2 s-1\n",
    "    - alpha = 1e-4 in g C (g Chla h micro E m-2 s-1)-1\n",
    "    - mu = max_mu * fs * ft * ln * lpar\n",
    "\n",
    "    Parameters:\n",
    "    s_min (float): Minimum salinity in g kg^-1.\n",
    "    s_max (float): Maximum salinity in g kg^-1.\n",
    "    t_min (float): Minimum temperature in degrees Celsius.\n",
    "    t_max (float): Maximum temperature in degrees Celsius.\n",
    "    c_min (float): Minimum nutrient concentration in mmol m^-3.\n",
    "    c_max (float): Maximum nutrient concentration in mmol m^-3.\n",
    "    k (float): Nutrient concentration in mmol m^-3.\n",
    "    z_min (float): Minimum depth in ice in m.\n",
    "    z_max (float): Maximum depth in ice in m.\n",
    "    alpha (float): in g C (g Chla h micro E m-2 s-1)-1\n",
    "    index (int): index of the depth in ice.\n",
    "\n",
    "    Returns:\n",
    "    float: Photosynthetic rate at the given depth in ice.\n",
    "    \"\"\"\n",
    "    PAR_arr = calculate_PAR(z_min, z_max)\n",
    "    Ek_arr = Ek_light_z(s_min, s_max, t_min, t_max, c_min, c_max, z_min, z_max, k, alpha, index)\n",
    "    lpar_arr = Ek_light_tanh(PAR_arr, Ek_arr)\n",
    "    max_mu = 2e-5  # in s^-1\n",
    "    mu = max_mu * fs_ft_ln(s_min, s_max, t_min, t_max, c_min, c_max, k) * lpar_arr\n",
    "\n",
    "    return mu\n",
    "\n",
    "def update_photosynthetic_rate(s_min, s_max, t_min, t_max, c_min, c_max, k, z_min, z_max, alpha, index):\n",
    "    z_depth = np.linspace(z_min, z_max, 150)\n",
    "    t_list = np.linspace(t_min, t_max, 150)\n",
    "    s_list = np.linspace(s_min, s_max, 150)\n",
    "    c_list = np.linspace(c_min, c_max, 150)\n",
    "    print(f\"index: {index}\")\n",
    "    print(f\"Temperature[index]: {t_list[index]}\")\n",
    "    print(f\"Salinity[index]: {s_list[index]}\")\n",
    "    print(f\"Concentration[index]: {c_list[index]}\")\n",
    "    \n",
    "    fig, ax = plt.subplots()\n",
    "    plt.grid()\n",
    "    (line,) = ax.plot(\n",
    "        z_depth, photosynthetic_rate(s_min, s_max, t_min, t_max, c_min, c_max, k, z_min, z_max, alpha, index), lw=2\n",
    "    )\n",
    "    ax.set_ylabel(r\"$\\mu$\")\n",
    "    ax.set_xlabel(\"depth in $m$\")\n",
    "    ax.set_title(\"Photosynthetic rate\")\n",
    "    # adjust the main plot to make room for the sliders\n",
    "    fig.subplots_adjust(left=0.25, bottom=0.25)\n",
    "    # The function to be called anytime a slider's value changes\n",
    "    # Create the figure and the line that we will manipulate\n",
    "    line.set_ydata(photosynthetic_rate(s_min, s_max, t_min, t_max, c_min, c_max, k, z_min, z_max, alpha, index))\n",
    "    line.set_xdata(z_depth)\n",
    "    fig.canvas.draw_idle()"
   ]
  },
  {
   "cell_type": "code",
   "execution_count": 41,
   "metadata": {},
   "outputs": [
    {
     "data": {
      "application/vnd.jupyter.widget-view+json": {
       "model_id": "757e007722004ee79cd4836e66215e37",
       "version_major": 2,
       "version_minor": 0
      },
      "text/plain": [
       "interactive(children=(FloatSlider(value=1.0, description='minimum salinity in g kg^-1', layout=Layout(width='5…"
      ]
     },
     "metadata": {},
     "output_type": "display_data"
    },
    {
     "data": {
      "text/plain": [
       "<function __main__.update_photosynthetic_rate(s_min, s_max, t_min, t_max, c_min, c_max, k, z_min, z_max, alpha, index)>"
      ]
     },
     "metadata": {},
     "output_type": "display_data"
    },
    {
     "data": {
      "application/vnd.jupyter.widget-view+json": {
       "model_id": "8c2c79bdb1c948c2bb6421dd753a3c45",
       "version_major": 2,
       "version_minor": 0
      },
      "text/plain": [
       "Button(description='Reset', style=ButtonStyle())"
      ]
     },
     "metadata": {},
     "output_type": "display_data"
    }
   ],
   "source": [
    "# ui widgets\n",
    "# salinity min and max\n",
    "s_min_widget = widgets.FloatSlider(\n",
    "    value=init_s_min, min=0, max=200, step=0.1, description=\"minimum salinity in g kg^-1\", style={'description_width': 'initial'}, layout={'width': '500px'}\n",
    ")\n",
    "s_max_widget = widgets.FloatSlider(\n",
    "    value=init_s_max, min=0, max=250, step=0.1, description=\"maximum salinity in g kg^-1\", style={'description_width': 'initial'}, layout={'width': '500px'}\n",
    ")\n",
    "# temperature min and max\n",
    "t_min_widget = widgets.FloatSlider(\n",
    "    value=init_t_min, min=-30, max=100, step=0.1, description=\"minimum temperature in °C\", style={'description_width': 'initial'}, layout={'width': '500px'}\n",
    ")\n",
    "t_max_widget = widgets.FloatSlider(\n",
    "    value=init_t_max, min=-100, max=100, step=0.1, description=\"maximum temperature in °C\", style={'description_width': 'initial'}, layout={'width': '500px'}\n",
    ")\n",
    "# nutrient\n",
    "c_min_widget = widgets.FloatSlider(\n",
    "    value=init_c_min, min=init_c_min, max=init_c_max, step=0.1, description=\"minimum concentration in mmol m^-3\", style={'description_width': 'initial'}, layout={'width': '500px'}\n",
    ")\n",
    "c_max_widget = widgets.FloatSlider(\n",
    "    value=init_c_max, min=init_c_min, max=init_c_max, step=0.1, description=\"maximum concentration in mmol m^-3\", style={'description_width': 'initial'}, layout={'width': '500px'}\n",
    ")\n",
    "k_widget = widgets.FloatSlider(\n",
    "    value=init_k, min=0.01, max=10, step=0.1, description=\"half-saturation constant\", style={'description_width': 'initial'}, layout={'width': '500px'}\n",
    ")\n",
    "z_widget = widgets.FloatSlider(\n",
    "    value=init_z, min=init_z_min, max=init_z_max, step=0.1, description=\"sea-ice depth in m\", style={'description_width': 'initial'}, layout={'width': '500px'}\n",
    ")\n",
    "z_min_widget = widgets.FloatSlider(\n",
    "    value=init_z_min, min=init_z_min, max=init_z_max, step=0.1, description=\"minimum depth in m\", style={'description_width': 'initial'}, layout={'width': '500px'}\n",
    ")\n",
    "z_max_widget = widgets.FloatSlider(\n",
    "    value=init_z_max, min=init_z_min, max=init_z_max, step=0.1, description=\"maximum depth in m\", style={'description_width': 'initial'}, layout={'width': '500px'}\n",
    ")\n",
    "alpha_widget = widgets.FloatSlider(\n",
    "    value=1e-4, min=1e-5, max=1e-1, step=1e-5, description=\"photosynthesis efficiency α\", style={'description_width': 'initial'}, layout={'width': '500px'}\n",
    ")\n",
    "index_widget = widgets.IntSlider(\n",
    "    value=0, min=0, max=149, step=1, description=\"index\", style={'description_width': 'initial'}, layout={'width': '300px'}\n",
    ")\n",
    "\n",
    "# reset\n",
    "reset_button_photosynthetic_rate = widgets.Button(description=\"Reset\")\n",
    "\n",
    "\n",
    "def reset_photosynthetic_rate(event):\n",
    "    # salinity\n",
    "    s_min_widget.value = init_s_min\n",
    "    s_max_widget.value = init_s_max\n",
    "    # temperature\n",
    "    t_min_widget.value = init_t_min\n",
    "    t_max_widget.value = init_t_max\n",
    "    # nutrient\n",
    "    c_min_widget.value = init_c_min\n",
    "    c_max_widget.value = init_c_max\n",
    "    k_widget.value = init_k\n",
    "    z_min_widget.value = init_z_min\n",
    "    z_max_widget.value = init_z_max\n",
    "    alpha_widget.value = 1e-4\n",
    "    index_widget.value = 0\n",
    "\n",
    "\n",
    "reset_button_photosynthetic_rate.on_click(reset_photosynthetic_rate)\n",
    "\n",
    "interactive_plot_photosynthetic_rate = widgets.interact(\n",
    "    update_photosynthetic_rate,\n",
    "    s_min=s_min_widget,\n",
    "    s_max=s_max_widget,\n",
    "    t_min=t_min_widget,\n",
    "    t_max=t_max_widget,\n",
    "    c_min=c_min_widget,\n",
    "    c_max=c_max_widget,\n",
    "    k=k_widget,\n",
    "    z_min=z_min_widget,\n",
    "    z_max=z_max_widget,\n",
    "    alpha=alpha_widget,\n",
    "    index=index_widget,\n",
    ")\n",
    "\n",
    "# display(fig.canvas)\n",
    "display(\n",
    "    interactive_plot_photosynthetic_rate,\n",
    "    reset_button_photosynthetic_rate,\n",
    ")\n"
   ]
  },
  {
   "cell_type": "markdown",
   "metadata": {},
   "source": [
    "### 6.2 $f(\\mu, S, T, N)$ comparison plots"
   ]
  },
  {
   "cell_type": "code",
   "execution_count": 48,
   "metadata": {},
   "outputs": [],
   "source": [
    "def update_fplots(s_min, s_max, t_min, t_max, c_min, c_max, k, z, z_min, z_max, alpha, index):\n",
    "    t_list = np.linspace(t_min, t_max, 150)\n",
    "    s_list = np.linspace(s_min, s_max, 150)\n",
    "    c_list = np.linspace(c_min, c_max, 150)\n",
    "    print(f\"index: {index}\")\n",
    "    print(f\"Temperature[index]: {t_list[index]}\")\n",
    "    print(f\"Salinity[index]: {s_list[index]}\")\n",
    "    print(f\"Concentration[index]: {c_list[index]}\")\n",
    "\n",
    "    fig, axs = plt.subplots(2, 2, figsize=(16, 12))\n",
    "    for ax in axs.flat:\n",
    "        ax.grid(True)\n",
    "    ax1, ax2, ax3, ax4 = axs[0, 0], axs[0, 1], axs[1, 0], axs[1,1]\n",
    "    (line_1,) = ax1.plot(np.linspace(t_min, t_max, 150),\n",
    "         Ek_light(s_min, s_max, t_min, t_max, c_min, c_max, k,z, alpha), lw=2, color='black', label=r'$\\mu f_s F_t f_n/r_C^{Chl}$'\n",
    "    )\n",
    "    line_1_1, = ax1.plot(np.linspace(t_min, t_max, 150),\n",
    "         f_s_salinity(s_min, s_max), lw=2, label='$f(S)$'\n",
    "    )\n",
    "    line_1_2, = ax1.plot(fs_ft(t_min, t_max, s_min, s_max), lw=2, label=r'$f(T,S)$')\n",
    "    line_1_3, = ax1.plot(\n",
    "        fs_ft_ln(s_min, s_max, t_min, t_max, c_min, c_max, k), lw=2, label=r'$f(T,S,N)$'\n",
    "    )\n",
    "    line_1_4, = ax1.plot(\n",
    "        photosynthetic_rate(s_min, s_max, t_min, t_max, c_min, c_max, k, z_min, z_max, alpha, index), lw=2, label=r'$f(T,S,N,PAR)$'\n",
    "    )\n",
    "    line_2, = ax2.plot(\n",
    "        ft_temperature(t_min, t_max))   \n",
    "    line_3, = ax3.plot(c_list, nutrient_function(c_min, c_max, k), lw=2, label='Nutrient')\n",
    "    line_4, = ax4.plot(calculate_PAR(z_min, z_max), Ek_light_tanh(calculate_PAR(z_min, z_max), Ek_light_z(s_min, s_max, t_min, t_max, c_min, c_max, z_min, z_max, k, alpha, index)), lw=2, color='red', label='PAR')\n",
    "    ax1.set_ylabel(r\"$f$\")\n",
    "    ax1.set_xlabel(r\"Temperature in \\degree C\")\n",
    "    ax2.set_ylabel(r\"$f_t$\")\n",
    "    ax2.set_xlabel(r\"Temperature in \\degree C\")\n",
    "    ax3.set_ylabel(r\"$f_n$\")\n",
    "    ax3.set_xlabel(r\"Temperature in \\degree C$\")\n",
    "    ax4.set_ylabel(r\"$L_{PAR} = tanh(PAR/E_k)$\")\n",
    "    ax4.set_xlabel(r\"PAR in $W m^{-2}$\")\n",
    "    ax1.legend()\n",
    "    # adjust the main plot to make room for the sliders\n",
    "    fig.subplots_adjust(left=0.25, bottom=0.25)\n",
    "    # The function to be called anytime a slider's value changes\n",
    "    # Create the figure and the line that we will manipulate\n",
    "    line_1.set_ydata(Ek_light(s_min, s_max, t_min, t_max, c_min, c_max, k, z, alpha))\n",
    "    line_1_1.set_ydata(f_s_salinity(s_min, s_max))\n",
    "    line_1_2.set_ydata(fs_ft(t_min, t_max, s_min, s_max))\n",
    "    line_1_3.set_ydata(fs_ft_ln(s_min, s_max, t_min, t_max, c_min, c_max, k))\n",
    "    line_1_4.set_ydata(photosynthetic_rate(s_min, s_max, t_min, t_max, c_min, c_max, k, z_min, z_max, alpha, index))\n",
    "    line_2.set_ydata(ft_temperature(t_min, t_max))\n",
    "    line_3.set_xdata(c_list)\n",
    "    line_3.set_ydata(nutrient_function(c_min, c_max, k))\n",
    "    line_4.set_xdata(calculate_PAR(z_min, z_max))\n",
    "    line_4.set_ydata(Ek_light_tanh(calculate_PAR(z_min, z_max), Ek_light_z(s_min, s_max, t_min, t_max, c_min, c_max, z_min, z_max, k, alpha, index)))\n",
    "    plt.legend()\n",
    "    fig.canvas.draw_idle()\n",
    "\n"
   ]
  },
  {
   "cell_type": "code",
   "execution_count": 49,
   "metadata": {},
   "outputs": [
    {
     "data": {
      "application/vnd.jupyter.widget-view+json": {
       "model_id": "95e6155fdc954917bb78cbdb47eb8b4d",
       "version_major": 2,
       "version_minor": 0
      },
      "text/plain": [
       "interactive(children=(FloatSlider(value=1.0, description='minimum salinity in g kg^-1', layout=Layout(width='5…"
      ]
     },
     "metadata": {},
     "output_type": "display_data"
    },
    {
     "data": {
      "text/plain": [
       "<function __main__.update_fplots(s_min, s_max, t_min, t_max, c_min, c_max, k, z, z_min, z_max, alpha, index)>"
      ]
     },
     "metadata": {},
     "output_type": "display_data"
    },
    {
     "data": {
      "application/vnd.jupyter.widget-view+json": {
       "model_id": "1491073266df47d491c85e33502e62db",
       "version_major": 2,
       "version_minor": 0
      },
      "text/plain": [
       "Button(description='Reset', style=ButtonStyle())"
      ]
     },
     "metadata": {},
     "output_type": "display_data"
    }
   ],
   "source": [
    "# ui widgets\n",
    "# salinity min and max\n",
    "s_min_widget = widgets.FloatSlider(\n",
    "    value=init_s_min, min=0, max=200, step=0.1, description=\"minimum salinity in g kg^-1\", style={'description_width': 'initial'}, layout={'width': '500px'}\n",
    ")\n",
    "s_max_widget = widgets.FloatSlider(\n",
    "    value=init_s_max, min=0, max=250, step=0.1, description=\"maximum salinity in g kg^-1\", style={'description_width': 'initial'}, layout={'width': '500px'}\n",
    ")\n",
    "# temperature min and max\n",
    "t_min_widget = widgets.FloatSlider(\n",
    "    value=init_t_min, min=-100, max=100, step=0.1, description=\"minimum temperature in °C\", style={'description_width': 'initial'}, layout={'width': '500px'}\n",
    ")\n",
    "t_max_widget = widgets.FloatSlider(\n",
    "    value=init_t_max, min=-100, max=100, step=0.1, description=\"maximum temperature in °C\", style={'description_width': 'initial'}, layout={'width': '500px'}\n",
    ")\n",
    "# nutrient\n",
    "c_min_widget = widgets.FloatSlider(\n",
    "    value=init_c_min, min=init_c_min, max=init_c_max, step=0.1, description=\"minimum concentration in mmol m^-3\", style={'description_width': 'initial'}, layout={'width': '500px'}\n",
    ")\n",
    "c_max_widget = widgets.FloatSlider(\n",
    "    value=init_c_max, min=init_c_min, max=init_c_max, step=0.1, description=\"maximum concentration in mmol m^-3\", style={'description_width': 'initial'}, layout={'width': '500px'}\n",
    ")\n",
    "k_widget = widgets.FloatSlider(\n",
    "    value=init_k, min=0.01, max=10, step=0.1, description=\"half-saturation constant\", style={'description_width': 'initial'}, layout={'width': '500px'}\n",
    ")\n",
    "z_widget = widgets.FloatSlider(\n",
    "    value=init_z, min=init_z_min, max=init_z_max, step=0.1, description=\"sea-ice depth in m\", style={'description_width': 'initial'}, layout={'width': '500px'}\n",
    ")\n",
    "z_min_widget = widgets.FloatSlider(\n",
    "    value=init_z_min, min=init_z_min, max=init_z_max, step=0.1, description=\"minimum depth in m\", style={'description_width': 'initial'}, layout={'width': '500px'}\n",
    ")\n",
    "z_max_widget = widgets.FloatSlider(\n",
    "    value=init_z_max, min=init_z_min, max=init_z_max, step=0.1, description=\"maximum depth in m\", style={'description_width': 'initial'}, layout={'width': '500px'}\n",
    ")\n",
    "alpha_widget = widgets.FloatSlider(\n",
    "    value=1e-4, min=1e-5, max=1e-1, step=1e-5, description=\"photosynthesis efficiency α\", style={'description_width': 'initial'}, layout={'width': '500px'}\n",
    ")\n",
    "index_widget = widgets.IntSlider(\n",
    "    value=0, min=0, max=149, step=1, description=\"index\", style={'description_width': 'initial'}, layout={'width': '300px'}\n",
    ")\n",
    "\n",
    "# reset\n",
    "reset_button_fcomparison = widgets.Button(description=\"Reset\")\n",
    "\n",
    "\n",
    "def reset_fcomparison(event):\n",
    "    # salinity\n",
    "    s_min_widget.value = init_s_min\n",
    "    s_max_widget.value = init_s_max\n",
    "    # temperature\n",
    "    t_min_widget.value = init_t_min\n",
    "    t_max_widget.value = init_t_max\n",
    "    # nutrient\n",
    "    c_min_widget.value = init_c_min\n",
    "    c_max_widget.value = init_c_max\n",
    "    k_widget.value = init_k\n",
    "    z_min_widget.value = init_z_min\n",
    "    z_max_widget.value = init_z_max\n",
    "    z_widget.value = init_z\n",
    "    alpha_widget.value = 1e-4\n",
    "    index_widget.value = 0\n",
    "\n",
    "\n",
    "reset_button_fcomparison.on_click(reset_fcomparison)\n",
    "\n",
    "interactive_fplots = widgets.interact(\n",
    "    update_fplots,\n",
    "    s_min=s_min_widget,\n",
    "    s_max=s_max_widget,\n",
    "    t_min=t_min_widget,\n",
    "    t_max=t_max_widget,\n",
    "    c_min=c_min_widget,\n",
    "    c_max=c_max_widget,\n",
    "    k=k_widget,\n",
    "    z=z_widget,\n",
    "    z_min=z_min_widget,\n",
    "    z_max=z_max_widget,\n",
    "    alpha=alpha_widget,\n",
    "    index=index_widget,\n",
    ")\n",
    "\n",
    "# display(fig.canvas)\n",
    "display(\n",
    "    interactive_fplots,\n",
    "    reset_button_fcomparison,\n",
    ")\n"
   ]
  }
 ],
 "metadata": {
  "kernelspec": {
   "display_name": "spyice",
   "language": "python",
   "name": "python3"
  },
  "language_info": {
   "codemirror_mode": {
    "name": "ipython",
    "version": 3
   },
   "file_extension": ".py",
   "mimetype": "text/x-python",
   "name": "python",
   "nbconvert_exporter": "python",
   "pygments_lexer": "ipython3",
   "version": "3.12.8"
  }
 },
 "nbformat": 4,
 "nbformat_minor": 2
}
