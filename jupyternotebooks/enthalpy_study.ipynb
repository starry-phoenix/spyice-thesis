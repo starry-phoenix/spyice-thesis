{
 "cells": [
  {
   "cell_type": "markdown",
   "metadata": {},
   "source": [
    "Connected to spyice (Python 3.12.6)"
   ]
  },
  {
   "cell_type": "code",
   "execution_count": 65,
   "metadata": {},
   "outputs": [],
   "source": [
    "import numpy as np \n",
    "import matplotlib.pyplot as plt "
   ]
  },
  {
   "cell_type": "code",
   "execution_count": 66,
   "metadata": {},
   "outputs": [],
   "source": [
    "# constants \n",
    "rho_l = 1028.0\n",
    "rho_s =  917.0\n",
    "c_l = 3985.0\n",
    "c_s = 2000.0\n",
    "S_br = 233.0\n",
    "T_m = 273.15 # melt temperature \n",
    "T_s = 252.05 # eutectic temperature for Sbr = 233ppt \n",
    "T_l = lambda S: (T_m + (T_s - T_m)/S_br*S)\n",
    "T_l_34ppt = T_l(34.0)\n",
    "L = 334774"
   ]
  },
  {
   "cell_type": "code",
   "execution_count": 67,
   "metadata": {},
   "outputs": [
    {
     "data": {
      "text/plain": [
       "270.07103004291844"
      ]
     },
     "execution_count": 67,
     "metadata": {},
     "output_type": "execute_result"
    }
   ],
   "source": [
    "T_l_34ppt"
   ]
  },
  {
   "cell_type": "code",
   "execution_count": 68,
   "metadata": {},
   "outputs": [],
   "source": [
    "def H_phi(phi, T):\n",
    "    H_s = rho_s*c_s*(T-T_s)    \n",
    "    H_l = rho_l*L + rho_l*c_l*(T-T_l_34ppt)\n",
    "    H_phi = (1-phi)*H_s + phi*H_l \n",
    "    return H_phi "
   ]
  },
  {
   "cell_type": "code",
   "execution_count": 69,
   "metadata": {},
   "outputs": [],
   "source": [
    "T_range = np.arange(240,300, 1)"
   ]
  },
  {
   "cell_type": "code",
   "execution_count": 70,
   "metadata": {},
   "outputs": [],
   "source": [
    "phi_k = np.zeros(len(T_range))\n",
    "nz = abs(T_s - T_l_34ppt)\n",
    "for i, t in enumerate(T_range):\n",
    "    if t <= T_s:\n",
    "        phi_k[i] = 0.0\n",
    "    elif t> T_s and t<T_l_34ppt:\n",
    "        phi_k[i] = phi_k[i-1] + 1/nz\n",
    "    elif t>= T_l_34ppt:\n",
    "        phi_k[i] = 1.0\n",
    "    else:\n",
    "        print('t out of range')"
   ]
  },
  {
   "cell_type": "code",
   "execution_count": 71,
   "metadata": {},
   "outputs": [],
   "source": [
    "H_k = H_phi(phi_k, T_range)"
   ]
  },
  {
   "cell_type": "code",
   "execution_count": 72,
   "metadata": {},
   "outputs": [
    {
     "data": {
      "text/plain": [
       "array([0.        , 0.        , 0.        , 0.        , 0.        ,\n",
       "       0.        , 0.        , 0.        , 0.        , 0.        ,\n",
       "       0.        , 0.        , 0.        , 0.05549072, 0.11098145,\n",
       "       0.16647217, 0.2219629 , 0.27745362, 0.33294434, 0.38843507,\n",
       "       0.44392579, 0.49941651, 0.55490724, 0.61039796, 0.66588869,\n",
       "       0.72137941, 0.77687013, 0.83236086, 0.88785158, 0.9433423 ,\n",
       "       0.99883303, 1.        , 1.        , 1.        , 1.        ,\n",
       "       1.        , 1.        , 1.        , 1.        , 1.        ,\n",
       "       1.        , 1.        , 1.        , 1.        , 1.        ,\n",
       "       1.        , 1.        , 1.        , 1.        , 1.        ,\n",
       "       1.        , 1.        , 1.        , 1.        , 1.        ,\n",
       "       1.        , 1.        , 1.        , 1.        , 1.        ])"
      ]
     },
     "execution_count": 72,
     "metadata": {},
     "output_type": "execute_result"
    }
   ],
   "source": [
    "phi_k"
   ]
  },
  {
   "cell_type": "code",
   "execution_count": 73,
   "metadata": {},
   "outputs": [
    {
     "data": {
      "text/plain": [
       "[<matplotlib.lines.Line2D at 0x268fa145400>]"
      ]
     },
     "execution_count": 73,
     "metadata": {},
     "output_type": "execute_result"
    },
    {
     "data": {
      "image/png": "[encoded data removed]",
      "text/plain": [
       "<Figure size 640x480 with 1 Axes>"
      ]
     },
     "metadata": {},
     "output_type": "display_data"
    }
   ],
   "source": [
    "plt.plot(T_range,H_k/1e06)"
   ]
  },
  {
   "cell_type": "code",
   "execution_count": 96,
   "metadata": {},
   "outputs": [
    {
     "data": {
      "text/plain": [
       "array([-2.20997000e+01, -2.02657000e+01, -1.84317000e+01, -1.65977000e+01,\n",
       "       -1.47637000e+01, -1.29297000e+01, -1.10957000e+01, -9.26170000e+00,\n",
       "       -7.42770000e+00, -5.59370000e+00, -3.75970000e+00, -1.92570000e+00,\n",
       "       -9.17000000e-02,  1.68619980e+01,  3.40668004e+01,  5.15227072e+01,\n",
       "        6.92297184e+01,  8.71878340e+01,  1.05397054e+02,  1.23857378e+02,\n",
       "        1.42568807e+02,  1.61531340e+02,  1.80744978e+02,  2.00209720e+02,\n",
       "        2.19925567e+02,  2.39892517e+02,  2.60110573e+02,  2.80579732e+02,\n",
       "        3.01299996e+02,  3.22271365e+02,  3.43493838e+02,  3.47953272e+02,\n",
       "        3.52049852e+02,  3.56146432e+02,  3.60243012e+02,  3.64339592e+02,\n",
       "        3.68436172e+02,  3.72532752e+02,  3.76629332e+02,  3.80725912e+02,\n",
       "        3.84822492e+02,  3.88919072e+02,  3.93015652e+02,  3.97112232e+02,\n",
       "        4.01208812e+02,  4.05305392e+02,  4.09401972e+02,  4.13498552e+02,\n",
       "        4.17595132e+02,  4.21691712e+02,  4.25788292e+02,  4.29884872e+02,\n",
       "        4.33981452e+02,  4.38078032e+02,  4.42174612e+02,  4.46271192e+02,\n",
       "        4.50367772e+02,  4.54464352e+02,  4.58560932e+02,  4.62657512e+02])"
      ]
     },
     "execution_count": 96,
     "metadata": {},
     "output_type": "execute_result"
    }
   ],
   "source": [
    "H_k/1e06"
   ]
  },
  {
   "cell_type": "code",
   "execution_count": 95,
   "metadata": {},
   "outputs": [
    {
     "name": "stdout",
     "output_type": "stream",
     "text": [
      "0.0\n"
     ]
    }
   ],
   "source": [
    "H_l = H_phi(0.0, T_s)\n",
    "print(H_l/1e06)"
   ]
  },
  {
   "cell_type": "code",
   "execution_count": 75,
   "metadata": {},
   "outputs": [
    {
     "name": "stderr",
     "output_type": "stream",
     "text": [
      "C:\\Users\\sneha\\AppData\\Local\\Temp\\ipykernel_24300\\3287299394.py:3: RuntimeWarning: divide by zero encountered in divide\n",
      "  slope_hbyphi = slope_h/slope_phi\n"
     ]
    },
    {
     "data": {
      "text/plain": [
       "[<matplotlib.lines.Line2D at 0x268fa1c09e0>]"
      ]
     },
     "execution_count": 75,
     "metadata": {},
     "output_type": "execute_result"
    },
    {
     "data": {
      "image/png": "[encoded data removed]",
      "text/plain": [
       "<Figure size 640x480 with 1 Axes>"
      ]
     },
     "metadata": {},
     "output_type": "display_data"
    }
   ],
   "source": [
    "slope_h = (H_k[1:] - H_k[:-1])/(rho_l*L)\n",
    "slope_phi = phi_k[1:] - phi_k[:-1]\n",
    "slope_hbyphi = slope_h/slope_phi\n",
    "\n",
    "L_ = L * np.ones(len(T_range))\n",
    "plt.plot(T_range[1:],slope_hbyphi, '*')\n",
    "#plt.plot(T_range[1:], L_[1:])"
   ]
  },
  {
   "cell_type": "code",
   "execution_count": 76,
   "metadata": {},
   "outputs": [
    {
     "data": {
      "text/plain": [
       "array([        inf,         inf,         inf,         inf,         inf,\n",
       "               inf,         inf,         inf,         inf,         inf,\n",
       "               inf,         inf,  0.88776745,  0.90091634,  0.91406523,\n",
       "        0.92721412,  0.94036301,  0.9535119 ,  0.96666079,  0.97980968,\n",
       "        0.99295857,  1.00610746,  1.01925635,  1.03240524,  1.04555413,\n",
       "        1.05870302,  1.07185191,  1.0850008 ,  1.09814969,  1.11129858,\n",
       "       11.10387008,         inf,         inf,         inf,         inf,\n",
       "               inf,         inf,         inf,         inf,         inf,\n",
       "               inf,         inf,         inf,         inf,         inf,\n",
       "               inf,         inf,         inf,         inf,         inf,\n",
       "               inf,         inf,         inf,         inf,         inf,\n",
       "               inf,         inf,         inf,         inf])"
      ]
     },
     "execution_count": 76,
     "metadata": {},
     "output_type": "execute_result"
    }
   ],
   "source": [
    "slope_hbyphi"
   ]
  },
  {
   "cell_type": "code",
   "execution_count": 77,
   "metadata": {},
   "outputs": [
    {
     "data": {
      "text/plain": [
       "array([0.        , 0.        , 0.        , 0.        , 0.        ,\n",
       "       0.        , 0.        , 0.        , 0.        , 0.        ,\n",
       "       0.        , 0.        , 0.        , 0.05549072, 0.11098145,\n",
       "       0.16647217, 0.2219629 , 0.27745362, 0.33294434, 0.38843507,\n",
       "       0.44392579, 0.49941651, 0.55490724, 0.61039796, 0.66588869,\n",
       "       0.72137941, 0.77687013, 0.83236086, 0.88785158, 0.9433423 ,\n",
       "       0.99883303, 1.        , 1.        , 1.        , 1.        ,\n",
       "       1.        , 1.        , 1.        , 1.        , 1.        ,\n",
       "       1.        , 1.        , 1.        , 1.        , 1.        ,\n",
       "       1.        , 1.        , 1.        , 1.        , 1.        ,\n",
       "       1.        , 1.        , 1.        , 1.        , 1.        ,\n",
       "       1.        , 1.        , 1.        , 1.        , 1.        ])"
      ]
     },
     "execution_count": 77,
     "metadata": {},
     "output_type": "execute_result"
    }
   ],
   "source": [
    "phi_k"
   ]
  },
  {
   "cell_type": "code",
   "execution_count": 78,
   "metadata": {},
   "outputs": [
    {
     "data": {
      "text/plain": [
       "[<matplotlib.lines.Line2D at 0x268f8de7e00>]"
      ]
     },
     "execution_count": 78,
     "metadata": {},
     "output_type": "execute_result"
    },
    {
     "data": {
      "image/png": "[encoded data removed]",
      "text/plain": [
       "<Figure size 640x480 with 1 Axes>"
      ]
     },
     "metadata": {},
     "output_type": "display_data"
    }
   ],
   "source": [
    "plt.plot(phi_k)"
   ]
  },
  {
   "cell_type": "code",
   "execution_count": 79,
   "metadata": {},
   "outputs": [
    {
     "data": {
      "text/plain": [
       "[<matplotlib.lines.Line2D at 0x268fa06e840>]"
      ]
     },
     "execution_count": 79,
     "metadata": {},
     "output_type": "execute_result"
    },
    {
     "data": {
      "image/png": "[encoded data removed]",
      "text/plain": [
       "<Figure size 640x480 with 1 Axes>"
      ]
     },
     "metadata": {},
     "output_type": "display_data"
    }
   ],
   "source": [
    "plt.plot(phi_k, '*')"
   ]
  },
  {
   "cell_type": "markdown",
   "metadata": {},
   "source": [
    "No kernel connected"
   ]
  },
  {
   "cell_type": "markdown",
   "metadata": {},
   "source": [
    "No kernel connected"
   ]
  }
 ],
 "metadata": {
  "kernelspec": {
   "display_name": "spyice",
   "language": "python",
   "name": "python3"
  },
  "language_info": {
   "codemirror_mode": {
    "name": "ipython",
    "version": 3
   },
   "file_extension": ".py",
   "mimetype": "text/x-python",
   "name": "python",
   "nbconvert_exporter": "python",
   "pygments_lexer": "ipython3",
   "version": "3.12.6"
  }
 },
 "nbformat": 4,
 "nbformat_minor": 2
}
