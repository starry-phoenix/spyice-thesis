{
 "cells": [
  {
   "cell_type": "markdown",
   "metadata": {},
   "source": [
    "Connected to spyice (Python 3.12.6)"
   ]
  },
  {
   "cell_type": "code",
   "execution_count": 1,
   "id": "065f9ad4-729e-4f36-8b05-7ca98da82e4d",
   "metadata": {},
   "outputs": [],
   "source": [
    "import math\n",
    "import sys\n",
    "sys.path.append('..')\n",
    "\n",
    "import matplotlib.pyplot as plt\n",
    "\n",
    "# TODO: check if the concentration is dependent on previous iterations or vice-versa\n",
    "# TODO: implement mushy layer consideration with liquid fraction check paper\n",
    "import numpy as np\n",
    "import scipy.optimize as opt\n",
    "\n",
    "from src.spyice.parameters.user_input import UserInput\n",
    "\n",
    "ui = UserInput()\n",
    "\n",
    "\n",
    "class StefanProblem:\n",
    "    \"\"\"A class to solve the Stefan problem.\"\"\"\n",
    "\n",
    "    @staticmethod\n",
    "    def stefan_problem(t, ui: UserInput):\n",
    "        \"\"\"Calculates the Stefan problem solution for a given time and user input.\n",
    "\n",
    "        Args:\n",
    "            t (float): The time value.\n",
    "            ui (UserInput): An instance of the UserInput class containing the necessary input parameters.\n",
    "\n",
    "        Returns:\n",
    "            float: The calculated Stefan problem solution.\n",
    "\n",
    "        Raises:\n",
    "            None\n",
    "\n",
    "        \"\"\"\n",
    "        # Rest of the code...\n",
    "        stefan_number = (\n",
    "            ui.constants.c_i\n",
    "            * (ui.temperature_melt - ui.boundary_top_temperature)\n",
    "            / ui.constants.L\n",
    "        )\n",
    "        fx = (  # noqa: E731\n",
    "            lambda x: stefan_number * np.exp(-(x**2)) / (np.sqrt(np.pi) * math.erf(x))\n",
    "            - x\n",
    "        )\n",
    "\n",
    "        dfxdx = lambda x: (  # noqa: E731\n",
    "            -2 * stefan_number * np.exp(-(x**2)) * x / (np.sqrt(np.pi) * math.erf(x))\n",
    "            - 2 * stefan_number * np.exp(-2 * x**2) / (np.pi * math.erf(x) ** 2)\n",
    "            - 1\n",
    "        )\n",
    "        lam_min = opt.newton(fx, 0.1, fprime=dfxdx, tol=0.0003, maxiter=100)\n",
    "        alpha = ui.constants.k_i / (ui.constants.c_i * ui.constants.rho_i)\n",
    "        return 2 * lam_min * np.sqrt(alpha * t)\n",
    "\n",
    "    @staticmethod\n",
    "    def calculate_temperature_profile(depth_stefan, t, dz, nz, ui: UserInput):\n",
    "        # sourcery skip: chain-compares\n",
    "        \"\"\"Calculates the temperature profile for the Stefan problem.\n",
    "\n",
    "        Args:\n",
    "            depth_stefan (float): The depth of the Stefan problem.\n",
    "            t (float): The time.\n",
    "            dz (float): The step size in the z-direction.\n",
    "            nz (int): The number of grid points in the z-direction.\n",
    "            ui (UserInput): An instance of the UserInput class containing the required constants and parameters.\n",
    "\n",
    "        Returns:\n",
    "            numpy.ndarray: An array containing the temperature profile for the Stefan problem.\n",
    "        \"\"\"\n",
    "        ...\n",
    "        alpha = ui.constants.k_i / (ui.constants.c_i * ui.constants.rho_i)\n",
    "        nz_depth = int(np.absolute(depth_stefan) / dz)\n",
    "        z = np.linspace(0, np.absolute(depth_stefan), nz_depth)\n",
    "        temperature_stefan = np.ones(nz) * ui.temperature_melt\n",
    "        if (np.absolute(depth_stefan) != nz_depth) and (nz_depth != 0):\n",
    "            for i in range(nz_depth):\n",
    "                erf_values = math.erf(z[i] / (2 * np.sqrt(alpha * t)))\n",
    "                erf_depth = math.erf(depth_stefan / (2 * np.sqrt(alpha * t)))\n",
    "                temperature_stefan[i] = ui.boundary_top_temperature - (\n",
    "                    ui.boundary_top_temperature - ui.temperature_melt\n",
    "                ) * (erf_values / erf_depth)\n",
    "        return temperature_stefan\n",
    "\n",
    "    @staticmethod\n",
    "    def calculate_temperature_twophase_profiles(depth_stefan, t, dz, nz, ui: UserInput=UserInput()):\n",
    "        \"\"\"Calculate the temperature and salinity profiles for the Stefan problem in a two-phase system.\n",
    "\n",
    "        Args:\n",
    "            depth_stefan (float): The depth of the Stefan problem.\n",
    "            t (float): The time.\n",
    "            dz (float): The grid spacing.\n",
    "            nz (int): The number of grid points.\n",
    "            ui (UserInput): An instance of the UserInput class containing the input parameters.\n",
    "\n",
    "        Returns:\n",
    "            tuple: A tuple containing the temperature and salinity profiles as numpy arrays.\n",
    "        \"\"\"\n",
    "        # Function implementation goes here\n",
    "        # pass\n",
    "        nz_depth = int(np.absolute(depth_stefan) / dz)\n",
    "        z = np.linspace(0, np.absolute(depth_stefan), nz_depth)\n",
    "        temperature = np.ones(nz) * ui.temperature_melt\n",
    "        salinity = np.ones(nz)*ui.boundary_salinity\n",
    "        # similarity solution variable\n",
    "        eta = z / np.sqrt(4 * ui.constants.D_s * t)\n",
    "        # boundary conditions\n",
    "        temperature_boundary = ui.boundary_top_temperature\n",
    "        temperature_bottom = ui.temperature_melt\n",
    "        # non-dimensional parameters for variable k (ice and brine thermal diffusivity) \n",
    "        eps = lambda k: np.sqrt(ui.constants.D_s / k)  # noqa: E731\n",
    "        # thermal diffusivity of ice and brine\n",
    "        kappa_i = ui.constants.k_i / (ui.constants.rho_i * ui.constants.c_i)\n",
    "        kappa_br = ui.constants.k_br / (ui.constants.rho_br * ui.constants.c_br)\n",
    "        # \n",
    "        f_x = lambda x: np.pi ** (1 / 2) * x * np.exp(x**2) * math.erfc(x)  # noqa: E731\n",
    "        s_fi = lambda lamb: ui.boundary_salinity * f_x(lamb) / (1 - f_x(lamb))  # noqa: E731\n",
    "        salinity_constant = ui.boundary_salinity + s_fi(depth_stefan)\n",
    "        temperature_interface = ui.temperature_melt - 1.853 * salinity_constant / 28.0\n",
    "\n",
    "        for i in range(nz_depth):\n",
    "            erf_values_solid = math.erf(eps(kappa_i) * eta[i])\n",
    "            erf_depth_solid = math.erf(eps(kappa_i) * depth_stefan)\n",
    "            erfc_values_liquid = math.erfc(eps(kappa_br) * eta[i])\n",
    "            erfc_depth_liquid = math.erfc(eps(kappa_br) * depth_stefan)\n",
    "\n",
    "            if eta[i] < depth_stefan and (i< nz):\n",
    "                temperature[i] = temperature_boundary + (\n",
    "                    temperature_interface - temperature_boundary\n",
    "                ) * (erf_values_solid / erf_depth_solid)\n",
    "                salinity[i] = salinity[i]\n",
    "            elif eta[i] >= depth_stefan and (i< nz):\n",
    "                temperature[i] = temperature_bottom + (\n",
    "                    temperature_interface - temperature_bottom\n",
    "                ) * (erfc_values_liquid / erfc_depth_liquid)\n",
    "                salinity[i] = ui.boundary_salinity\n",
    "                + (salinity_constant - ui.boundary_salinity) * math.erfc(eta[i]) / math.erfc(depth_stefan)\n",
    "            else:\n",
    "                pass\n",
    "\n",
    "            # salinity[i] = np.where(\n",
    "            #     eta >= depth_stefan,\n",
    "            #     ui.boundary_salinity\n",
    "            #     + (salinity - ui.boundary_salinity) * math.erfc(eta) / math.erfc(depth_stefan),\n",
    "            #     salinity[:nz_depth],\n",
    "            # )\n",
    "        return np.array(temperature), np.array(salinity)\n",
    "\n",
    "    @staticmethod\n",
    "    def stefan_problem_twophase(t, ui: UserInput=UserInput()):\n",
    "        \"\"\"Solves the Stefan problem for a two-phase system.\n",
    "\n",
    "        Args:\n",
    "            t (float): Time parameter.\n",
    "            ui (UserInput): User input object containing boundary conditions and constants.\n",
    "        Returns:\n",
    "            float: The result of the Stefan problem calculation.\n",
    "        \"\"\"\n",
    "        # Rest of the code...\n",
    "\n",
    "        gamma =  0.4 # 1.853 / 28.0\n",
    "        s_0 = ui.boundary_salinity\n",
    "        f_x = lambda x: np.pi ** (1 / 2) * x * np.exp(x**2) * math.erfc(x)  # noqa: E731\n",
    "        g_x = lambda x: np.pi ** (1 / 2) * x * np.exp(x**2) * math.erf(x)  # noqa: E731\n",
    "        eps = lambda k: np.sqrt(ui.constants.D_s / k)  # noqa: E731\n",
    "        temperature_boundary = ui.boundary_top_temperature\n",
    "        temperature_bottom = ui.temperature_melt\n",
    "        # liquidus relation\n",
    "        t_l = ui.temperature_melt - gamma * s_0\n",
    "        temperature_diff = t_l - temperature_boundary\n",
    "        t_0 = temperature_bottom - t_l\n",
    "        kappa_i = ui.constants.k_i / (ui.constants.rho_i * ui.constants.c_i)\n",
    "        kappa_br = ui.constants.k_br / (ui.constants.rho_br * ui.constants.c_br)\n",
    "        beta = (\n",
    "            ui.constants.rho_br\n",
    "            * ui.constants.c_br\n",
    "            / (ui.constants.rho_i * ui.constants.c_i)\n",
    "        )\n",
    "        s_fi = lambda lamb: gamma * s_0 * f_x(lamb) / (1 - f_x(lamb))  # noqa: E731\n",
    "        root_fx_lhs = lambda lamb: s_fi(lamb) * (  # noqa: E731\n",
    "            beta / f_x(eps(kappa_br) * lamb) + 1 / g_x(eps(kappa_i) * lamb)\n",
    "        )\n",
    "        root_fx_rhs = (  # noqa: E731\n",
    "            lambda lamb: temperature_diff / g_x(eps(kappa_i) * lamb)\n",
    "            - beta * t_0 / f_x(eps(kappa_br) * lamb)\n",
    "            - ui.constants.L / ui.constants.c_i\n",
    "        )\n",
    "        # FIXME: root_fx_rhs(lamb) results in -> -inf for lamb in -ve range\n",
    "        root_fx = lambda lamb: root_fx_lhs(lamb) - root_fx_rhs(lamb)  # noqa: E731\n",
    "        lambda_stefan = opt.newton(root_fx, 0.001, tol=1e-3, maxiter=200)  # TODO: why is starting point 0.1?\n",
    "        \n",
    "        return 2 * lambda_stefan * np.sqrt(ui.constants.D_s * t)*100  # TODO: check the units of D_s and t\n",
    "\n",
    "\n",
    "@staticmethod\n",
    "def _plot_stefan_temp_twophase(z_depth=0.1):\n",
    "    dt = ui.grid_timestep_dt\n",
    "    t_passed = 0\n",
    "    temperature_array = []\n",
    "    salinity_arr = []\n",
    "    t_pass_arr = []\n",
    "    depth_stefan_arr = []\n",
    "    Z = 1\n",
    "    nc = int(Z / ui.grid_resolution_dz)\n",
    "    nz = int(nc + 1)\n",
    "    for t in range(ui.max_iterations):\n",
    "        t_passed += dt \n",
    "        depth_stefan = StefanProblem.stefan_problem_twophase(t_passed)\n",
    "        if t > 0:\n",
    "            T, C = StefanProblem.calculate_temperature_twophase_profiles(depth_stefan, t, ui.grid_resolution_dz, nz)\n",
    "        else: \n",
    "            T, C = np.zeros(nz) * ui.temperature_melt , np.ones(nz) * ui.boundary_salinity\n",
    "        depth_stefan_arr.append(depth_stefan)\n",
    "        temperature_array.append(T)\n",
    "        salinity_arr.append(C)\n",
    "        t_pass_arr.append(t_passed)\n",
    "    print('z_depth:', z_depth)\n",
    "    z = int(z_depth * nz)\n",
    "    temperature_array = np.array(temperature_array)\n",
    "    T_z = temperature_array[:, z]\n",
    "    plt.grid()\n",
    "    plt.plot(np.array(t_pass_arr)[1:] / 3600, T_z[1:], label=\"Temperature\")\n",
    "    plt.xlabel(\"Time in h\")\n",
    "    plt.ylabel(\"Temperature\")\n",
    "    plt.show()\n",
    "    return temperature_array, salinity_arr\n"
   ]
  },
  {
   "cell_type": "code",
   "execution_count": 2,
   "metadata": {},
   "outputs": [],
   "source": [
    "stefan = StefanProblem()"
   ]
  },
  {
   "cell_type": "code",
   "execution_count": 3,
   "metadata": {},
   "outputs": [
    {
     "name": "stdout",
     "output_type": "stream",
     "text": [
      "z_depth: 0.8\n"
     ]
    },
    {
     "data": {
      "image/png": "[encoded data removed]",
      "text/plain": [
       "<Figure size 640x480 with 1 Axes>"
      ]
     },
     "metadata": {},
     "output_type": "display_data"
    }
   ],
   "source": [
    "t_arr, s_arr = _plot_stefan_temp_twophase(z_depth=0.8)"
   ]
  },
  {
   "cell_type": "code",
   "execution_count": 4,
   "metadata": {},
   "outputs": [
    {
     "data": {
      "text/plain": [
       "(101,)"
      ]
     },
     "execution_count": 4,
     "metadata": {},
     "output_type": "execute_result"
    }
   ],
   "source": [
    "t_arr[-2].shape"
   ]
  },
  {
   "cell_type": "code",
   "execution_count": 5,
   "metadata": {},
   "outputs": [
    {
     "name": "stdout",
     "output_type": "stream",
     "text": [
      "z_depth: 0.1\n"
     ]
    },
    {
     "data": {
      "image/png": "[encoded data removed]",
      "text/plain": [
       "<Figure size 640x480 with 1 Axes>"
      ]
     },
     "metadata": {},
     "output_type": "display_data"
    }
   ],
   "source": [
    "t_arr_0p1, s_arr_0p1 = _plot_stefan_temp_twophase(z_depth=0.1)"
   ]
  }
 ],
 "metadata": {
  "kernelspec": {
   "display_name": "spyice",
   "language": "python",
   "name": "python3"
  },
  "language_info": {
   "codemirror_mode": {
    "name": "ipython",
    "version": 3
   },
   "file_extension": ".py",
   "mimetype": "text/x-python",
   "name": "python",
   "nbconvert_exporter": "python",
   "pygments_lexer": "ipython3",
   "version": "3.12.6"
  }
 },
 "nbformat": 4,
 "nbformat_minor": 2
}
